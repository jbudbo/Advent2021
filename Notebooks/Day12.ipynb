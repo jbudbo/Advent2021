{
 "cells": [
  {
   "cell_type": "markdown",
   "metadata": {},
   "source": [
    "# Day 12: Passage Pathing\n",
    "* Need to parse out the string(s) splitting on `-` in search of starts.\n",
    "    * Tuples should suffice\n",
    "    * Not guaranteed to be in linear order\n",
    "    * May be worth transposing to gain a list of just that starting points???\n",
    "* Though it may be helpful, there is no need to diagram this. It's a problem of aggregating a list of all paths, then removing the invalid ones."
   ]
  },
  {
   "cell_type": "code",
   "execution_count": null,
   "metadata": {
    "dotnet_interactive": {
     "language": "fsharp"
    }
   },
   "outputs": [
    {
     "ename": "Error",
     "evalue": "input.fsx (40,1)-(40,5) parse warning Possible incorrect indentation: this token is offside of context started at position (23:13). Try indenting this token further or using standard formatting conventions.\ninput.fsx (40,1)-(40,5) parse warning Possible incorrect indentation: this token is offside of context started at position (23:13). Try indenting this token further or using standard formatting conventions.\ninput.fsx (11,42)-(11,46) typecheck warning Incomplete pattern matches on this expression. For example, the value '[]' may indicate a case not covered by the pattern(s).\ninput.fsx (23,16)-(23,34) typecheck error This value is not a function and cannot be applied.",
     "output_type": "error",
     "traceback": [
      "input.fsx (40,1)-(40,5) parse warning Possible incorrect indentation: this token is offside of context started at position (23:13). Try indenting this token further or using standard formatting conventions.\n",
      "input.fsx (40,1)-(40,5) parse warning Possible incorrect indentation: this token is offside of context started at position (23:13). Try indenting this token further or using standard formatting conventions.\n",
      "input.fsx (11,42)-(11,46) typecheck warning Incomplete pattern matches on this expression. For example, the value '[]' may indicate a case not covered by the pattern(s).\n",
      "input.fsx (23,16)-(23,34) typecheck error This value is not a function and cannot be applied."
     ]
    }
   ],
   "source": [
    "let sample = \"start-A\n",
    "start-b\n",
    "A-c\n",
    "A-b\n",
    "b-d\n",
    "A-end\n",
    "b-end\"\n",
    "\n",
    "module List =\n",
    "    let inline extract (i:int) (arr:List<'T>) :'T*List<'T>= \n",
    "        arr |> List.splitAt i |> (fun (a,h::t) -> (h, List.append a t))\n",
    "\n",
    "module String =\n",
    "    let inline isLower str = Seq.forall Char.IsLower str\n",
    "\n",
    "let inline arrToTuple arr = (Array.head arr, Array.tail arr |> Array.head)\n",
    "let data = sample.Split(Environment.NewLine) |> Array.map (fun s -> s.Split('-') |> arrToTuple)\n",
    "let inline getAfter k = data |> Array.choose (fun (a,b) -> if a = k then Some b elif b = k then Some a else None)\n",
    "\n",
    "let rec egad k exc =\n",
    "    for n in getAfter k do\n",
    "        if (String.isLower n) then // 'start', 'end', and small caves\n",
    "            if not (Array.contains n exc) then // Only if we haven't visited yet\n",
    "                egad n (Array.appen [|n|] exc)\n",
    "            \n",
    "\n",
    "        // //  We wont ever go back to start\n",
    "        // if n = \"start\" then None\n",
    "        // //  A small cave wont be visited more than once\n",
    "        // elif String.isLower n then\n",
    "        //     // Therefore we need to check our exclusions list\n",
    "        //     if Array.contains n exc then None\n",
    "        //     //  It's lower but we haven't been here yet\n",
    "        //     else Array.append [|n|] exc |> egad n\n",
    "        // //  It's an end node in which we're done\n",
    "        // elif n = \"end\" then Some n\n",
    "        // //  It wasn't start, end, or a previously visited small cave, keep going\n",
    "        // else egad n exc\n",
    "\n",
    "\n",
    "egad \"start\" Array.empty\n"
   ]
  }
 ],
 "metadata": {
  "kernelspec": {
   "display_name": ".NET (C#)",
   "language": "C#",
   "name": ".net-csharp"
  },
  "language_info": {
   "file_extension": ".cs",
   "mimetype": "text/x-csharp",
   "name": "C#",
   "pygments_lexer": "csharp",
   "version": "9.0"
  },
  "orig_nbformat": 4
 },
 "nbformat": 4,
 "nbformat_minor": 2
}
