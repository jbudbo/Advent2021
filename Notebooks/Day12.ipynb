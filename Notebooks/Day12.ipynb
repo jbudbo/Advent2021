{
 "cells": [
  {
   "cell_type": "markdown",
   "metadata": {},
   "source": [
    "# Day 12: Passage Pathing\n",
    "* Need to parse out the string(s) splitting on `-` in search of starts.\n",
    "    * Tuples should suffice\n",
    "    * Not guaranteed to be in linear order\n",
    "    * May be worth transposing to gain a list of just that starting points???\n",
    "* Though it may be helpful, there is no need to diagram this. It's a problem of aggregating a list of all paths, then removing the invalid ones."
   ]
  },
  {
   "cell_type": "code",
   "execution_count": null,
   "metadata": {
    "dotnet_interactive": {
     "language": "fsharp"
    }
   },
   "outputs": [
    {
     "data": {
      "text/html": [
       "<table><thead><tr><th><i>index</i></th><th>value</th></tr></thead><tbody><tr><td>0</td><td><div class=\"dni-plaintext\">0</div></td></tr><tr><td>1</td><td><div class=\"dni-plaintext\">3</div></td></tr><tr><td>2</td><td><div class=\"dni-plaintext\">6</div></td></tr><tr><td>3</td><td><div class=\"dni-plaintext\">9</div></td></tr></tbody></table>"
      ]
     },
     "metadata": {},
     "output_type": "display_data"
    }
   ],
   "source": [
    "Array.except [|2|] [|0"
   ]
  },
  {
   "cell_type": "code",
   "execution_count": null,
   "metadata": {
    "dotnet_interactive": {
     "language": "fsharp"
    }
   },
   "outputs": [
    {
     "data": {
      "text/html": [
       "<table><thead><tr><th><i>index</i></th><th>Item1</th><th>Item2</th></tr></thead><tbody><tr><td>0</td><td><div class=\"dni-plaintext\">[ ( start, A ) ]</div></td><td><div class=\"dni-plaintext\">[ ( start, b ), ( A, c ), ( A, b ), ( b, d ), ( A, end ), ( b, end ) ]</div></td></tr><tr><td>1</td><td><div class=\"dni-plaintext\">[ ( start, b ) ]</div></td><td><div class=\"dni-plaintext\">[ ( start, A ), ( A, c ), ( A, b ), ( b, d ), ( A, end ), ( b, end ) ]</div></td></tr><tr><td>2</td><td><div class=\"dni-plaintext\">[ ( A, c ) ]</div></td><td><div class=\"dni-plaintext\">[ ( start, A ), ( start, b ), ( A, b ), ( b, d ), ( A, end ), ( b, end ) ]</div></td></tr><tr><td>3</td><td><div class=\"dni-plaintext\">[ ( A, b ) ]</div></td><td><div class=\"dni-plaintext\">[ ( start, A ), ( start, b ), ( A, c ), ( b, d ), ( A, end ), ( b, end ) ]</div></td></tr><tr><td>4</td><td><div class=\"dni-plaintext\">[ ( b, d ) ]</div></td><td><div class=\"dni-plaintext\">[ ( start, A ), ( start, b ), ( A, c ), ( A, b ), ( A, end ), ( b, end ) ]</div></td></tr><tr><td>5</td><td><div class=\"dni-plaintext\">[ ( A, end ) ]</div></td><td><div class=\"dni-plaintext\">[ ( start, A ), ( start, b ), ( A, c ), ( A, b ), ( b, d ), ( b, end ) ]</div></td></tr><tr><td>6</td><td><div class=\"dni-plaintext\">[ ( b, end ) ]</div></td><td><div class=\"dni-plaintext\">[ ( start, A ), ( start, b ), ( A, c ), ( A, b ), ( b, d ), ( A, end ) ]</div></td></tr></tbody></table>"
      ]
     },
     "metadata": {},
     "output_type": "display_data"
    }
   ],
   "source": [
    "let sample = \"start-A\n",
    "start-b\n",
    "A-c\n",
    "A-b\n",
    "b-d\n",
    "A-end\n",
    "b-end\"\n",
    "\n",
    "module Array =\n",
    "    let inline extract (i:int) (arr:'T[]) :('T[]*'T[]) = arr |> Array.splitAt i |> (fun (a,b) -> ([|Array.head b|], Array.append a (Array.tail b)))\n",
    "\n",
    "let inline arrToTuple arr = (Array.head arr, Array.tail arr |> Array.head)\n",
    "let data = sample.Split(Environment.NewLine) |> Array.map (fun s -> s.Split('-') |> arrToTuple)\n",
    "\n",
    "let rec build (head:(string*string)[]) (arr:(string*string)[]) =\n",
    "    [|\n",
    "        for i = 0 to arr.Length - 1 do \n",
    "            let (h,t) = Array.extract i arr\n",
    "            \n",
    "    |]\n",
    "\n",
    "build Array.empty data\n"
   ]
  }
 ],
 "metadata": {
  "kernelspec": {
   "display_name": ".NET (C#)",
   "language": "C#",
   "name": ".net-csharp"
  },
  "language_info": {
   "file_extension": ".cs",
   "mimetype": "text/x-csharp",
   "name": "C#",
   "pygments_lexer": "csharp",
   "version": "9.0"
  },
  "orig_nbformat": 4
 },
 "nbformat": 4,
 "nbformat_minor": 2
}
