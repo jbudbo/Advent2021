{
 "cells": [
  {
   "cell_type": "markdown",
   "metadata": {},
   "source": [
    "# Day 13: Transparent Origami"
   ]
  },
  {
   "cell_type": "code",
   "execution_count": null,
   "metadata": {
    "dotnet_interactive": {
     "language": "fsharp"
    }
   },
   "outputs": [
    {
     "data": {
      "text/plain": [
       "#####"
      ]
     },
     "metadata": {},
     "output_type": "display_data"
    },
    {
     "data": {
      "text/plain": [
       "#...#"
      ]
     },
     "metadata": {},
     "output_type": "display_data"
    },
    {
     "data": {
      "text/plain": [
       "#...#"
      ]
     },
     "metadata": {},
     "output_type": "display_data"
    },
    {
     "data": {
      "text/plain": [
       "#...#"
      ]
     },
     "metadata": {},
     "output_type": "display_data"
    },
    {
     "data": {
      "text/plain": [
       "#####"
      ]
     },
     "metadata": {},
     "output_type": "display_data"
    },
    {
     "data": {
      "text/plain": [
       "....."
      ]
     },
     "metadata": {},
     "output_type": "display_data"
    },
    {
     "data": {
      "text/plain": [
       "....."
      ]
     },
     "metadata": {},
     "output_type": "display_data"
    }
   ],
   "source": [
    "let sample = \"6,10\n",
    "0,14\n",
    "9,10\n",
    "0,3\n",
    "10,4\n",
    "4,11\n",
    "6,0\n",
    "6,12\n",
    "4,1\n",
    "0,13\n",
    "10,12\n",
    "3,4\n",
    "3,0\n",
    "8,4\n",
    "1,10\n",
    "2,14\n",
    "8,10\n",
    "9,0\n",
    "\n",
    "fold along y=7\n",
    "fold along x=5\"\n",
    "module Array2D =\n",
    "    let splitAtY i (src:'T[,]) :('T[,]*'T[,]) =\n",
    "        (\n",
    "            Array2D.init (src.GetUpperBound(0)) i (fun x y -> src.[x,y]),\n",
    "            Array2D.init (src.GetUpperBound(0)) i (fun x y -> src.[x,y + i])\n",
    "        )\n",
    "\n",
    "let inline arrToTuple (arr:'T array) :'T*'T = (arr[0],arr[1])\n",
    "let inline stringToInt (str:string) :int = (int str) - (int \"0\")\n",
    "let inline drawDotsToPaper (p:char[,]) (c:int array array)  = for (x,y) in c |> Array.map arrToTuple do p.[x,y] <- '#'\n",
    "let inline displayPaper (p:char[,]) = for y=0 to p.GetUpperBound(1) do new String([|for x=0 to p.GetUpperBound(0) do p.[x,y]|]) |> display |> ignore\n",
    "let inline overlayPaper (p1:char[,]) (p2:char[,]) = \n",
    "    for x = 0 to p2.GetUpperBound(0) do\n",
    "        for y = 0 to p2.GetUpperBound(1) do\n",
    "            if p2.[x,y] = '#' then\n",
    "                p1.[x,y] <- '#'\n",
    "let inline horizFold (i:int) (p:char[,]) :char[,] =\n",
    "    let upper = [for x = 0 to p.GetUpperBound(0) do [for y = 0 to (i-1) do p.[x,y]]] |> array2D\n",
    "    let lowerFlipped = [for x = 0 to p.GetUpperBound(0) do [for y = p.GetUpperBound(1) downto (i+1) do p.[x,y]]] |> array2D\n",
    "    overlayPaper upper lowerFlipped\n",
    "    upper\n",
    "let inline vertFold (i:int) (p:char[,]) :char[,] =\n",
    "    let left = [for x = 0 to (i-1) do [for y = 0 to p.GetUpperBound(1) do p.[x,y]]] |> array2D\n",
    "    let rightFlipped = [for x = p.GetUpperBound(0) downto (i+1) do [for y = 0 to p.GetUpperBound(1) do p.[x,y]]] |> array2D\n",
    "    overlayPaper left rightFlipped\n",
    "    left\n",
    "\n",
    "let (board, folds) = sample.Split(Environment.NewLine) |> (fun a -> Array.splitAt (Array.findIndex (fun i -> i = String.Empty) a) a)\n",
    "let cleanCoords = board |> Array.map (fun s -> s.Split(',') |> Array.map stringToInt) \n",
    "let paper = cleanCoords |>  Array.map Array.max |> (fun arr -> (arr[0]+1, arr[1]+1, '.')) |||> Array2D.create \n",
    "\n",
    "drawDotsToPaper paper cleanCoords\n",
    "\n",
    "let cleanFolds = folds |> Array.tail |> Array.map (fun l -> l.Replace(\"fold along \", String.Empty).Split('=') |> arrToTuple |> (fun (a,b) -> (a, int b)))\n",
    "\n",
    "(paper, cleanFolds) ||> Array.fold (fun p i -> \n",
    "    match i with\n",
    "    | (\"y\", y) -> horizFold y p\n",
    "    | (\"x\", x) -> vertFold x p\n",
    ") |> displayPaper\n",
    "\n"
   ]
  }
 ],
 "metadata": {
  "kernelspec": {
   "display_name": ".NET (C#)",
   "language": "C#",
   "name": ".net-csharp"
  },
  "language_info": {
   "file_extension": ".cs",
   "mimetype": "text/x-csharp",
   "name": "C#",
   "pygments_lexer": "csharp",
   "version": "9.0"
  },
  "orig_nbformat": 4
 },
 "nbformat": 4,
 "nbformat_minor": 2
}
