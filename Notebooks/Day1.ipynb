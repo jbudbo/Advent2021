{
 "cells": [
  {
   "cell_type": "markdown",
   "metadata": {
    "dotnet_interactive": {
     "language": "fsharp"
    }
   },
   "source": [
    "# Day 1, Sonar Sweep\n",
    "\n",
    "## Count the number of times a depth measurement increases from the previous measurement.\n",
    "- 199 (N/A - no previous measurement)\n",
    "- 200 (increased)\n",
    "- 208 (increased)\n",
    "- 210 (increased)\n",
    "- 200 (decreased)\n",
    "- 207 (increased)\n",
    "- 240 (increased)\n",
    "- 269 (increased)\n",
    "- 260 (decreased)\n",
    "- 263 (increased)\n",
    "> Sample answer: 7"
   ]
  },
  {
   "cell_type": "code",
   "execution_count": null,
   "metadata": {
    "dotnet_interactive": {
     "language": "fsharp"
    }
   },
   "outputs": [],
   "source": [
    "let getData = System.IO.File.ReadLines(\"../Data/Day1.txt\") |> Seq.map int"
   ]
  },
  {
   "cell_type": "code",
   "execution_count": null,
   "metadata": {
    "dotnet_interactive": {
     "language": "fsharp"
    }
   },
   "outputs": [
    {
     "data": {
      "text/html": [
       "<div class=\"dni-plaintext\">1162</div>"
      ]
     },
     "metadata": {},
     "output_type": "display_data"
    }
   ],
   "source": [
    "// let sample = [|199;200;208;210;200;207;240;269;260;263|]\n",
    "getData\n",
    "    |> Seq.pairwise\n",
    "    |> Seq.where (fun (x,y) -> y > x)\n",
    "    |> Seq.length"
   ]
  },
  {
   "cell_type": "markdown",
   "metadata": {},
   "source": [
    "## count the number of times the sum of measurements in this sliding window increases from the previous sum. So, compare A with B, then compare B with C, then C with D, and so on. Stop when there aren't enough measurements left to create a new three-measurement sum.\n",
    "- 199  A      \n",
    "- 200  A B    \n",
    "- 208  A B C  \n",
    "- 210    B C D\n",
    "- 200  E   C D\n",
    "- 207  E F   D\n",
    "- 240  E F G  \n",
    "- 269    F G H\n",
    "- 260      G H\n",
    "- 263        H\n",
    "> in the first window are marked A (199, 200, 208); their sum is 199 + 200 + 208 = 607\n",
    "- A: 607 (N/A - no previous sum)\n",
    "- B: 618 (increased)\n",
    "- C: 618 (no change)\n",
    "- D: 617 (decreased)\n",
    "- E: 647 (increased)\n",
    "- F: 716 (increased)\n",
    "- G: 769 (increased)\n",
    "- H: 792 (increased)\n",
    "> Sample answer: 5"
   ]
  },
  {
   "cell_type": "code",
   "execution_count": null,
   "metadata": {
    "dotnet_interactive": {
     "language": "fsharp"
    }
   },
   "outputs": [
    {
     "data": {
      "text/html": [
       "<div class=\"dni-plaintext\">1190</div>"
      ]
     },
     "metadata": {},
     "output_type": "display_data"
    }
   ],
   "source": [
    "getData\n",
    "    |> Seq.windowed 3\n",
    "    |> Seq.map (fun w -> Seq.sum w)\n",
    "    |> Seq.pairwise\n",
    "    |> Seq.where (fun (x,y) -> y > x)\n",
    "    |> Seq.length"
   ]
  }
 ],
 "metadata": {
  "kernelspec": {
   "display_name": ".NET (C#)",
   "language": "C#",
   "name": ".net-csharp"
  },
  "language_info": {
   "file_extension": ".cs",
   "mimetype": "text/x-csharp",
   "name": "C#",
   "pygments_lexer": "csharp",
   "version": "9.0"
  },
  "orig_nbformat": 4
 },
 "nbformat": 4,
 "nbformat_minor": 2
}
