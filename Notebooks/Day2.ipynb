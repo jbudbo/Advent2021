{
 "cells": [
  {
   "cell_type": "markdown",
   "metadata": {
    "dotnet_interactive": {
     "language": "markdown"
    }
   },
   "source": [
    "# Day 2, Dive!\n",
    "## Calculate the horizontal position and depth you would have after following the planned course. What do you get if you multiply your final horizontal position by your final depth?\n",
    "It seems like the submarine can take a series of commands like forward 1, down 2, or up 3:\n",
    "\n",
    "forward X increases the horizontal position by X units.\n",
    "down X increases the depth by X units.\n",
    "up X decreases the depth by X units.\n",
    "Note that since you're on a submarine, down and up affect your depth\n",
    "- forward 5\n",
    "- down 5\n",
    "- forward 8\n",
    "- up 3\n",
    "- down 8\n",
    "- forward 2\n",
    "> horizontal position of 15 and a depth of 10. (Multiplying these together produces 150.)"
   ]
  },
  {
   "cell_type": "code",
   "execution_count": null,
   "metadata": {
    "dotnet_interactive": {
     "language": "fsharp"
    }
   },
   "outputs": [],
   "source": [
    "let arrToDouble arr = match arr |> Seq.toList with h::t -> (h,t[0] |> int) | [] -> failwith \"index outside array\""
   ]
  },
  {
   "cell_type": "code",
   "execution_count": null,
   "metadata": {
    "dotnet_interactive": {
     "language": "fsharp"
    }
   },
   "outputs": [
    {
     "data": {
      "text/html": [
       "<div class=\"dni-plaintext\">1762050</div>"
      ]
     },
     "metadata": {},
     "output_type": "display_data"
    }
   ],
   "source": [
    "let mul (a:int, b:int) :int = a * b\n",
    "\n",
    "let driveSub (instrList:seq<string>) =\n",
    "    instrList \n",
    "    |> Seq.map (fun i -> i.Split [|' '|] |> arrToDouble )\n",
    "    |> Seq.fold (fun (horiz, depth) (dir,len) -> \n",
    "        match dir with\n",
    "        | \"forward\" -> (horiz + len, depth)\n",
    "        | \"up\" -> (horiz, depth - len)\n",
    "        | \"down\" -> (horiz, depth + len)\n",
    "        | _ -> (horiz, depth)) (0,0)\n",
    "\n",
    "//[\"forward 5\"; \"down 5\"; \"forward 8\"; \"up 3\"; \"down 8\"; \"forward 2\"; \"testing 8\"] |> driveSub |> mul\n",
    "\n",
    "System.IO.File.ReadLines(\"../Data/Day2.txt\") \n",
    "    |> driveSub\n",
    "    |> mul"
   ]
  },
  {
   "cell_type": "markdown",
   "metadata": {},
   "source": [
    "In addition to horizontal position and depth, you'll also need to track a third value, aim, which also starts at 0. The commands also mean something entirely different than you first thought:\n",
    "\n",
    "down X increases your aim by X units.\n",
    "up X decreases your aim by X units.\n",
    "forward X does two things:\n",
    "It increases your horizontal position by X units.\n",
    "It increases your depth by your aim multiplied by X."
   ]
  },
  {
   "cell_type": "code",
   "execution_count": null,
   "metadata": {
    "dotnet_interactive": {
     "language": "fsharp"
    }
   },
   "outputs": [
    {
     "data": {
      "text/html": [
       "<div class=\"dni-plaintext\">1855892637</div>"
      ]
     },
     "metadata": {},
     "output_type": "display_data"
    }
   ],
   "source": [
    "let mul (a:int, b:int, _) :int = a * b\n",
    "\n",
    "let driveSub (instrList:seq<string>) =\n",
    "    instrList \n",
    "    |> Seq.map (fun i -> i.Split [|' '|] |> arrToDouble )\n",
    "    |> Seq.fold (fun (horiz, depth, aim) (dir,len) -> \n",
    "        match dir with\n",
    "        | \"forward\" -> (horiz + len, depth + (aim * len), aim)\n",
    "        | \"up\" -> (horiz, depth, aim - len)\n",
    "        | \"down\" -> (horiz, depth, aim + len)\n",
    "        | _ -> (horiz, depth, aim)) (0,0,0)\n",
    "\n",
    "//[\"forward 5\"; \"down 5\"; \"forward 8\"; \"up 3\"; \"down 8\"; \"forward 2\"; \"testing 8\"] |> driveSub |> mul\n",
    "\n",
    "System.IO.File.ReadLines(\"../Data/Day2.txt\") |> driveSub |> mul\n",
    "    "
   ]
  }
 ],
 "metadata": {
  "kernelspec": {
   "display_name": ".NET (C#)",
   "language": "C#",
   "name": ".net-csharp"
  },
  "language_info": {
   "file_extension": ".cs",
   "mimetype": "text/x-csharp",
   "name": "C#",
   "pygments_lexer": "csharp",
   "version": "9.0"
  },
  "orig_nbformat": 4
 },
 "nbformat": 4,
 "nbformat_minor": 2
}
