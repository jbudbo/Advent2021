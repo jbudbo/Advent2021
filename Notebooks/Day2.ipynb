{
 "cells": [
  {
   "cell_type": "markdown",
   "metadata": {
    "dotnet_interactive": {
     "language": "markdown"
    }
   },
   "source": [
    "# Day 2, Dive!\n",
    "## Calculate the horizontal position and depth you would have after following the planned course. What do you get if you multiply your final horizontal position by your final depth?\n",
    "It seems like the submarine can take a series of commands like forward 1, down 2, or up 3:\n",
    "\n",
    "forward X increases the horizontal position by X units.\n",
    "down X increases the depth by X units.\n",
    "up X decreases the depth by X units.\n",
    "Note that since you're on a submarine, down and up affect your depth\n",
    "- forward 5\n",
    "- down 5\n",
    "- forward 8\n",
    "- up 3\n",
    "- down 8\n",
    "- forward 2\n",
    "> horizontal position of 15 and a depth of 10. (Multiplying these together produces 150.)"
   ]
  },
  {
   "cell_type": "code",
   "execution_count": null,
   "metadata": {
    "dotnet_interactive": {
     "language": "fsharp"
    }
   },
   "outputs": [],
   "source": [
    "type Coord = int * int\n",
    "type Instr = {Direction:string; Step:int}\n",
    "\n",
    "let parse (line:string) :Instr =\n",
    "    let bits = line.Split [|' '|]\n",
    "    let s = bits[1] |> int\n",
    "    {Direction=bits[0]; Step=s}\n",
    "\n",
    "let driveSub instrList =\n",
    "    let origin = Coord (0,0)\n",
    "    Seq.mapFold parse "
   ]
  },
  {
   "cell_type": "code",
   "execution_count": null,
   "metadata": {
    "dotnet_interactive": {
     "language": "fsharp"
    }
   },
   "outputs": [
    {
     "data": {
      "text/html": [
       "<table><thead><tr><th><i>index</i></th><th>value</th></tr></thead><tbody><tr><td>0</td><td><div class=\"dni-plaintext\">[ forward, 5 ]</div></td></tr><tr><td>1</td><td><div class=\"dni-plaintext\">[ down, 5 ]</div></td></tr><tr><td>2</td><td><div class=\"dni-plaintext\">[ forward, 8 ]</div></td></tr><tr><td>3</td><td><div class=\"dni-plaintext\">[ up, 3 ]</div></td></tr><tr><td>4</td><td><div class=\"dni-plaintext\">[ down, 8 ]</div></td></tr><tr><td>5</td><td><div class=\"dni-plaintext\">[ forward, 2 ]</div></td></tr></tbody></table>"
      ]
     },
     "metadata": {},
     "output_type": "display_data"
    }
   ],
   "source": [
    "let sample = [\"forward 5\"; \"down 5\"; \"forward 8\"; \"up 3\"; \"down 8\"; \"forward 2\"]\n",
    "\n",
    "((0,0), sample)\n",
    "    |> Seq.fold (fun (acc : Coord) (src : string) ->\n",
    "        let instr = src.Split [|' '|]\n",
    "        match instr[0] with\n",
    "        | \"forward\" -> )\n"
   ]
  }
 ],
 "metadata": {
  "kernelspec": {
   "display_name": ".NET (C#)",
   "language": "C#",
   "name": ".net-csharp"
  },
  "language_info": {
   "file_extension": ".cs",
   "mimetype": "text/x-csharp",
   "name": "C#",
   "pygments_lexer": "csharp",
   "version": "9.0"
  },
  "orig_nbformat": 4
 },
 "nbformat": 4,
 "nbformat_minor": 2
}
