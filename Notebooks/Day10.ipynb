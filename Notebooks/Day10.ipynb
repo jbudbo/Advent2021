{
 "cells": [
  {
   "cell_type": "markdown",
   "metadata": {
    "dotnet_interactive": {
     "language": "csharp"
    }
   },
   "source": [
    "# Day 10: Syntax Scoring\n",
    "The navigation subsystem syntax is made of several lines containing chunks. There are one or more chunks on each line, and chunks contain zero or more other chunks. Adjacent chunks are not separated by any delimiter; if one chunk stops, the next chunk (if any) can immediately start. Every chunk must open and close with one of four legal pairs of matching characters:\n",
    "\n",
    "Find and discard the corrupted lines first.\n",
    "\n",
    "A corrupted line is one where a chunk closes with the wrong character - that is, where the characters it opens and closes with do not form one of the four legal pairs listed above.\n",
    "\n",
    "Examples of corrupted chunks include (], {()()()>, (((()))}, and <([]){()}[{}]). Such a chunk can appear anywhere within a line, and its presence causes the whole line to be considered corrupted."
   ]
  },
  {
   "cell_type": "code",
   "execution_count": null,
   "metadata": {
    "dotnet_interactive": {
     "language": "fsharp"
    }
   },
   "outputs": [
    {
     "data": {
      "text/html": [
       "<div class=\"dni-plaintext\">364389</div>"
      ]
     },
     "metadata": {},
     "output_type": "display_data"
    }
   ],
   "source": [
    "let sample = \"[({(<(())[]>[[{[]{<()<>>\n",
    "[(()[<>])]({[<{<<[]>>(\n",
    "{([(<{}[<>[]}>{[]{[(<()>\n",
    "(((({<>}<{<{<>}{[]{[]{}\n",
    "[[<[([]))<([[{}[[()]]]\n",
    "[{[{({}]{}}([{[{{{}}([]\n",
    "{<[[]]>}<{[{[{[]{()[[[]\n",
    "[<(<(<(<{}))><([]([]()\n",
    "<{([([[(<>()){}]>(<<{{\n",
    "<{([{{}}[<[[[<>{}]]]>[]]\"\n",
    "\n",
    "let rec interpret (line:seq<char>) openBuffer =\n",
    "    if Seq.isEmpty line then 0\n",
    "    else\n",
    "        let h = Seq.head line\n",
    "        match h with\n",
    "        //  If it's any of the openers, add our head to the top of the queue and move deeper\n",
    "        | '('|'['|'{'|'<' -> seq { yield h; yield! openBuffer } |> interpret (Seq.tail line)\n",
    "        //  If it's any of our closers in which the head of our buffer is their cohort, unwrap a bit and move deeper\n",
    "        | ')' when Seq.head openBuffer = '(' -> Seq.tail openBuffer |> interpret (Seq.tail line)\n",
    "        | ']' when Seq.head openBuffer = '[' -> Seq.tail openBuffer |> interpret (Seq.tail line)\n",
    "        | '}' when Seq.head openBuffer = '{' -> Seq.tail openBuffer |> interpret (Seq.tail line)\n",
    "        | '>' when Seq.head openBuffer = '<' -> Seq.tail openBuffer |> interpret (Seq.tail line)\n",
    "        //  Line is corrupt\n",
    "        | ')' -> 3\n",
    "        | ']' -> 57\n",
    "        | '}' -> 1197\n",
    "        | '>' -> 25137\n",
    "        | _ -> 0\n",
    "\n",
    "let inline runEval (line:seq<char>) = interpret line []\n",
    "\n",
    "// sample.Split(Environment.NewLine)\n",
    "System.IO.File.ReadAllLines(\"../Data/Day10.txt\") \n",
    "|> Seq.map runEval |> Seq.sum\n"
   ]
  },
  {
   "cell_type": "markdown",
   "metadata": {},
   "source": [
    "Now, discard the corrupted lines. The remaining lines are incomplete.\n",
    "\n",
    "Incomplete lines don't have any incorrect characters - instead, they're missing some closing characters at the end of the line. To repair the navigation subsystem, you just need to figure out the sequence of closing characters that complete all open chunks in the line."
   ]
  },
  {
   "cell_type": "code",
   "execution_count": null,
   "metadata": {
    "dotnet_interactive": {
     "language": "fsharp"
    }
   },
   "outputs": [
    {
     "data": {
      "text/html": [
       "<div class=\"dni-plaintext\">2870201088</div>"
      ]
     },
     "metadata": {},
     "output_type": "display_data"
    }
   ],
   "source": [
    "let inline calculateClosure buffer =\n",
    "    let inline evalChar c = match c with '(' -> Some(1L) | '[' -> Some(2L) | '{' -> Some(3L) | '<' -> Some(4L) | _ -> None\n",
    "    buffer |> Seq.choose evalChar |> Seq.fold (fun a i -> (a*5L)+i) 0L\n",
    "\n",
    "let rec interpret (line:seq<char>) openBuffer =\n",
    "    if Seq.isEmpty line then\n",
    "        Some(calculateClosure openBuffer) \n",
    "    else\n",
    "        let h = Seq.head line\n",
    "        match h with\n",
    "        //  If it's any of the openers, add our head to the top of the queue and move deeper\n",
    "        | '('|'['|'{'|'<' -> seq { yield h; yield! openBuffer } |> interpret (Seq.tail line)\n",
    "        //  If it's any of our closers in which the head of our buffer is their cohort, unwrap a bit and move deeper\n",
    "        | ')' when Seq.head openBuffer = '(' -> Seq.tail openBuffer |> interpret (Seq.tail line)\n",
    "        | ']' when Seq.head openBuffer = '[' -> Seq.tail openBuffer |> interpret (Seq.tail line)\n",
    "        | '}' when Seq.head openBuffer = '{' -> Seq.tail openBuffer |> interpret (Seq.tail line)\n",
    "        | '>' when Seq.head openBuffer = '<' -> Seq.tail openBuffer |> interpret (Seq.tail line)\n",
    "        //  Line is corrupt\n",
    "        | _ -> None\n",
    "\n",
    "let inline runEval (line:seq<char>) = interpret line []\n",
    "\n",
    "// sample.Split(Environment.NewLine) \n",
    "System.IO.File.ReadAllLines(\"../Data/Day10.txt\")\n",
    "|> Array.choose runEval\n",
    "|> Array.sort\n",
    "|> Array.splitInto 2\n",
    "|> Array.head\n",
    "|> Array.last"
   ]
  }
 ],
 "metadata": {
  "kernelspec": {
   "display_name": ".NET (C#)",
   "language": "C#",
   "name": ".net-csharp"
  },
  "language_info": {
   "file_extension": ".cs",
   "mimetype": "text/x-csharp",
   "name": "C#",
   "pygments_lexer": "csharp",
   "version": "9.0"
  },
  "orig_nbformat": 4
 },
 "nbformat": 4,
 "nbformat_minor": 2
}
