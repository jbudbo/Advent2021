{
 "cells": [
  {
   "cell_type": "markdown",
   "metadata": {
    "dotnet_interactive": {
     "language": "csharp"
    }
   },
   "source": [
    "# Day 10: Syntax Scoring\n",
    "The navigation subsystem syntax is made of several lines containing chunks. There are one or more chunks on each line, and chunks contain zero or more other chunks. Adjacent chunks are not separated by any delimiter; if one chunk stops, the next chunk (if any) can immediately start. Every chunk must open and close with one of four legal pairs of matching characters:\n",
    "\n",
    "Find and discard the corrupted lines first.\n",
    "\n",
    "A corrupted line is one where a chunk closes with the wrong character - that is, where the characters it opens and closes with do not form one of the four legal pairs listed above.\n",
    "\n",
    "Examples of corrupted chunks include (], {()()()>, (((()))}, and <([]){()}[{}]). Such a chunk can appear anywhere within a line, and its presence causes the whole line to be considered corrupted."
   ]
  },
  {
   "cell_type": "code",
   "execution_count": null,
   "metadata": {
    "dotnet_interactive": {
     "language": "fsharp"
    }
   },
   "outputs": [
    {
     "name": "stderr",
     "output_type": "stream",
     "text": [
      "Stopped due to error\n"
     ]
    },
    {
     "ename": "Error",
     "evalue": "input.fsx (30,1)-(30,18) typecheck error Value restriction. The value 'it' has been inferred to have generic type\n    val it: (seq<char> -> int)    \nEither make the arguments to 'it' explicit or, if you do not intend for it to be generic, add a type annotation.",
     "output_type": "error",
     "traceback": [
      "input.fsx (30,1)-(30,18) typecheck error Value restriction. The value 'it' has been inferred to have generic type\n",
      "    val it: (seq<char> -> int)    \n",
      "Either make the arguments to 'it' explicit or, if you do not intend for it to be generic, add a type annotation."
     ]
    }
   ],
   "source": [
    "let sample = \"[({(<(())[]>[[{[]{<()<>>\n",
    "[(()[<>])]({[<{<<[]>>(\n",
    "{([(<{}[<>[]}>{[]{[(<()>\n",
    "(((({<>}<{<{<>}{[]{[]{}\n",
    "[[<[([]))<([[{}[[()]]]\n",
    "[{[{({}]{}}([{[{{{}}([]\n",
    "{<[[]]>}<{[{[{[]{()[[[]\n",
    "[<(<(<(<{}))><([]([]()\n",
    "<{([([[(<>()){}]>(<<{{\n",
    "<{([{{}}[<[[[<>{}]]]>[]]\"\n",
    "\n",
    "let inline (|Opener|Closer|Invalid|) string = //match char with '('|'['|'{'|'<' -> Opener char | ')'|']'|'}'|'>' -> Closer char | _ -> Invalid char\n",
    "    match Seq.head string with\n",
    "    | h when Array.contains h [|'(';'[';'{';'<'|] -> Opener (h, Seq.tail string)\n",
    "    | h when Array.contains h [|')';']';'}';'>'|] -> Closer (h, Seq.tail string)\n",
    "    | _ -> Invalid (' ', [' '])\n",
    "\n",
    "let rec interpret (line:seq<char>) openBuffer =\n",
    "    let h = Seq.head line\n",
    "    match h with\n",
    "    //  If it's any of the openers, add our head to the top of the queue and move deeper\n",
    "    | '('|'['|'{'|'<' -> seq { yield h; yield! openBuffer } |> interpret (Seq.tail line)\n",
    "    //  If it's any of our closers in which the head of our buffer is their cohort, unwrap a bit and move deeper\n",
    "    | ')' when Seq.head openBuffer = '(' -> Seq.tail openBuffer |> interpret (Seq.tail line)\n",
    "    | ']' when Seq.head openBuffer = '[' -> Seq.tail openBuffer |> interpret (Seq.tail line)\n",
    "    | '}' when Seq.head openBuffer = '{' -> Seq.tail openBuffer |> interpret (Seq.tail line)\n",
    "    | '>' when Seq.head openBuffer = '<' -> Seq.tail openBuffer |> interpret (Seq.tail line)\n",
    "    //  Now we're in it\n",
    "    | _ -> 1 //For now\n",
    "\n",
    "\"()\" |> interpret\n",
    "// sample.Split(Environment.NewLine) |> Array.item 2 |> interpret []\n"
   ]
  },
  {
   "cell_type": "code",
   "execution_count": null,
   "metadata": {
    "dotnet_interactive": {
     "language": "fsharp"
    }
   },
   "outputs": [
    {
     "data": {
      "text/html": [
       "<div class=\"dni-plaintext\">1</div>"
      ]
     },
     "metadata": {},
     "output_type": "display_data"
    }
   ],
   "source": [
    "seq { yield 1; yield 2; yield 3;} |> Seq.head"
   ]
  }
 ],
 "metadata": {
  "kernelspec": {
   "display_name": ".NET (C#)",
   "language": "C#",
   "name": ".net-csharp"
  },
  "language_info": {
   "file_extension": ".cs",
   "mimetype": "text/x-csharp",
   "name": "C#",
   "pygments_lexer": "csharp",
   "version": "9.0"
  },
  "orig_nbformat": 4
 },
 "nbformat": 4,
 "nbformat_minor": 2
}
