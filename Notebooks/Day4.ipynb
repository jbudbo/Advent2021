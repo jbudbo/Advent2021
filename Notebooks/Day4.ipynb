{
 "cells": [
  {
   "cell_type": "markdown",
   "metadata": {},
   "source": [
    "# Day 4, Giant Squid\n",
    "Bingo is played on a set of boards each consisting of a 5x5 grid of numbers. Numbers are chosen at random, and the chosen number is marked on all boards on which it appears. (Numbers may not appear on all boards.) If all numbers in any row or any column of a board are marked, that board wins. (Diagonals don't count.)"
   ]
  },
  {
   "cell_type": "code",
   "execution_count": null,
   "metadata": {
    "dotnet_interactive": {
     "language": "fsharp"
    }
   },
   "outputs": [],
   "source": [
    "let sample = \"7,4,9,5,11,17,23,2,0,14,21,24,10,16,13,6,15,25,12,22,18,20,8,19,3,26,1\n",
    "\n",
    "22 13 17 11  0\n",
    " 8  2 23  4 24\n",
    "21  9 14 16  7\n",
    " 6 10  3 18  5\n",
    " 1 12 20 15 19\n",
    "\n",
    " 3 15  0  2 22\n",
    " 9 18 13 17  5\n",
    "19  8  7 25 23\n",
    "20 11 10 24  4\n",
    "14 21 16 12  6\n",
    "\n",
    "14 21 17 24  4\n",
    "10 16 15  9 19\n",
    "18  8 23 26 20\n",
    "22 11 13  6  5\n",
    " 2  0 12  3  7\"\n",
    "\n",
    "let inline readInData (file:string) = file.Split(Environment.NewLine) |> Array.toList\n",
    "\n",
    "let inline splitText (delim:string) (l:string) =\n",
    "    l.Split(delim) |> Array.where (fun v -> v.Length > 0) |> Array.map int |> Array.toList\n",
    "let splitLine = splitText Environment.NewLine\n",
    "let splitComma = splitText \",\"\n",
    "let splitSpace = splitText \" \"\n",
    "let anyBelowZero = List.tryFindIndex (fun data -> data |> List.forall (fun i -> i < 0))\n",
    "let inline sumBoard b = b |> List.map (fun l -> l|> List.where (fun n -> n > 0) |> List.sum ) |> List.sum\n",
    "\n",
    "/// Check a 5x5 board (5 arrays of 5) for a given number and negate it\n",
    "let inline checkBoard num (board:List<List<int>>) =\n",
    "    board |> List.map (fun row -> row |> List.map (fun col -> if col = num then col - 1000 else col))\n",
    "\n",
    "let checkBoards num = List.map (fun b -> checkBoard num b)\n",
    "\n",
    "/// Check that a given board has either a row with all numbers less than 0 or a column with all numbers less than 0.\n",
    "/// If there is, return the winning numbers and the board\n",
    "let checkForWinner (board:List<List<int>>) =\n",
    "    match board |> anyBelowZero with\n",
    "    | Some (indx) -> Some (indx, board)\n",
    "    | None -> \n",
    "        let tr = board |> List.transpose\n",
    "        match tr |> anyBelowZero with\n",
    "        | Some (indx) -> Some (indx, tr)\n",
    "        | None -> None\n",
    "\n",
    "let rec playBingo (numbers:List<int>) (lastCall:int,boards:List<List<List<int>>>) =\n",
    "    match boards |> List.tryPick checkForWinner with\n",
    "    | None ->\n",
    "        match numbers with\n",
    "        //  keep going unless we've cleaned out our number list\n",
    "        | [] -> (-1, boards)\n",
    "        | head::tail -> (head,boards) ||> checkBoards |> (fun b -> playBingo tail (head,b))\n",
    "    //  We have a winner\n",
    "    | Some (i,x) -> (lastCall,[x |> List.removeAt i])\n"
   ]
  },
  {
   "cell_type": "code",
   "execution_count": null,
   "metadata": {
    "dotnet_interactive": {
     "language": "fsharp"
    }
   },
   "outputs": [
    {
     "data": {
      "text/html": [
       "<table><thead><tr><th><i>index</i></th><th>value</th></tr></thead><tbody><tr><td>0</td><td>18,99,39,89,0,40,52,72,61,77,69,51,30,83,20,65,93,88,29,22,14,82,53,41,76,79,46,78,56,57,24,36,38,11,50,1,19,26,70,4,54,3,84,33,15,21,9,58,64,85,10,66,17,43,31,27,2,5,95,96,16,97,12,34,74,67,86,23,49,8,59,45,68,91,25,48,13,28,81,94,92,42,7,37,75,32,6,60,63,35,62,98,90,47,87,73,44,71,55,80</td></tr><tr><td>1</td><td></td></tr><tr><td>2</td><td>12 79 33 36 97</td></tr><tr><td>3</td><td>82 38 77 61 84</td></tr><tr><td>4</td><td>55 74 21 65 39</td></tr><tr><td>5</td><td>54 56 95 50  2</td></tr><tr><td>6</td><td>45 68 31 94 14</td></tr><tr><td>7</td><td></td></tr><tr><td>8</td><td>95 26 80 25 62</td></tr><tr><td>9</td><td>79 91 70 76 61</td></tr><tr><td>10</td><td>98 97 17 75 23</td></tr><tr><td>11</td><td>71 30 21 52 29</td></tr><tr><td>12</td><td>20 54 32 12 31</td></tr><tr><td>13</td><td></td></tr><tr><td>14</td><td>35 31 86 36 52</td></tr><tr><td>15</td><td>18 50 79 60 67</td></tr><tr><td>16</td><td>98  3 51 46 25</td></tr><tr><td>17</td><td> 4 61 55 87 70</td></tr><tr><td>18</td><td>94 39 68 27 14</td></tr><tr><td>19</td><td></td></tr><tr><td colspan=\"2\"><i>... (more)</i></td></tr></tbody></table>"
      ]
     },
     "metadata": {},
     "output_type": "display_data"
    }
   ],
   "source": [
    "System.IO.File.ReadAllText(\"../Data/Day4.txt\") |> readInData \n",
    "|> (fun (h::t) ->\n",
    "    let calls = splitComma h\n",
    "    let boards = t |> List.where (fun l -> l.Length > 0) |> List.map splitSpace |> List.chunkBySize 5\n",
    "    (calls,(0,boards)) ||> playBingo \n",
    "        |> (fun (lc, b) -> \n",
    "            let boardTotal = b |> List.head |> sumBoard\n",
    "            boardTotal * lc)\n",
    "    )"
   ]
  }
 ],
 "metadata": {
  "kernelspec": {
   "display_name": ".NET (C#)",
   "language": "C#",
   "name": ".net-csharp"
  },
  "language_info": {
   "file_extension": ".cs",
   "mimetype": "text/x-csharp",
   "name": "C#",
   "pygments_lexer": "csharp",
   "version": "9.0"
  },
  "orig_nbformat": 4
 },
 "nbformat": 4,
 "nbformat_minor": 2
}
