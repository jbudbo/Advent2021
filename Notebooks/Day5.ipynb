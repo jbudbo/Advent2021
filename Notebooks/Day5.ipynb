{
 "cells": [
  {
   "cell_type": "markdown",
   "metadata": {},
   "source": [
    "# Day 5, Hydrothermal Venture\n",
    "Consider only horizontal and vertical lines. At how many points do at least two lines overlap?\n",
    ">In the above example, this is anywhere in the diagram with a 2 or larger - a total of 5 points."
   ]
  },
  {
   "cell_type": "code",
   "execution_count": null,
   "metadata": {
    "dotnet_interactive": {
     "language": "fsharp"
    }
   },
   "outputs": [],
   "source": [
    "let sample = \"0,9 -> 5,9\n",
    "8,0 -> 0,8\n",
    "9,4 -> 3,4\n",
    "2,2 -> 2,1\n",
    "7,0 -> 7,4\n",
    "6,4 -> 2,0\n",
    "0,9 -> 2,9\n",
    "3,4 -> 1,4\n",
    "0,0 -> 8,8\n",
    "5,5 -> 8,2\"\n",
    "\n",
    "type Coord = {X:int;Y:int}\n",
    "let inline toCoord (x:int,y:int) = {X=x;Y=y}\n",
    "type Line = {From:Coord;To:Coord}\n",
    "let inline toLine (f:Coord,t:Coord) = {From=f;To=t}\n",
    "\n",
    "let inline toDouble arr = match arr with [] -> failwith \"no data\" | h::t -> (h, List.head t)\n",
    "let inline parseRow (row:string) = \n",
    "    row.Split(\" -> \") |> Array.map(fun c -> c.Split(',') |> Array.map int |> Array.toList |> toDouble |> toCoord) |> Array.toList\n",
    "// let toSegments = Array.map (fun l -> l.Split(\" -> \") |> Array.map(fun c -> c.Split(',') |> Array.map int))"
   ]
  },
  {
   "cell_type": "code",
   "execution_count": null,
   "metadata": {
    "dotnet_interactive": {
     "language": "fsharp"
    }
   },
   "outputs": [
    {
     "data": {
      "text/html": [
       "<table><thead><tr><th><i>index</i></th><th>From</th><th>To</th></tr></thead><tbody><tr><td>0</td><td><table><thead><tr><th>X</th><th>Y</th></tr></thead><tbody><tr><td><div class=\"dni-plaintext\">0</div></td><td><div class=\"dni-plaintext\">9</div></td></tr></tbody></table></td><td><table><thead><tr><th>X</th><th>Y</th></tr></thead><tbody><tr><td><div class=\"dni-plaintext\">5</div></td><td><div class=\"dni-plaintext\">9</div></td></tr></tbody></table></td></tr><tr><td>1</td><td><table><thead><tr><th>X</th><th>Y</th></tr></thead><tbody><tr><td><div class=\"dni-plaintext\">8</div></td><td><div class=\"dni-plaintext\">0</div></td></tr></tbody></table></td><td><table><thead><tr><th>X</th><th>Y</th></tr></thead><tbody><tr><td><div class=\"dni-plaintext\">0</div></td><td><div class=\"dni-plaintext\">8</div></td></tr></tbody></table></td></tr><tr><td>2</td><td><table><thead><tr><th>X</th><th>Y</th></tr></thead><tbody><tr><td><div class=\"dni-plaintext\">9</div></td><td><div class=\"dni-plaintext\">4</div></td></tr></tbody></table></td><td><table><thead><tr><th>X</th><th>Y</th></tr></thead><tbody><tr><td><div class=\"dni-plaintext\">3</div></td><td><div class=\"dni-plaintext\">4</div></td></tr></tbody></table></td></tr><tr><td>3</td><td><table><thead><tr><th>X</th><th>Y</th></tr></thead><tbody><tr><td><div class=\"dni-plaintext\">2</div></td><td><div class=\"dni-plaintext\">2</div></td></tr></tbody></table></td><td><table><thead><tr><th>X</th><th>Y</th></tr></thead><tbody><tr><td><div class=\"dni-plaintext\">2</div></td><td><div class=\"dni-plaintext\">1</div></td></tr></tbody></table></td></tr><tr><td>4</td><td><table><thead><tr><th>X</th><th>Y</th></tr></thead><tbody><tr><td><div class=\"dni-plaintext\">7</div></td><td><div class=\"dni-plaintext\">0</div></td></tr></tbody></table></td><td><table><thead><tr><th>X</th><th>Y</th></tr></thead><tbody><tr><td><div class=\"dni-plaintext\">7</div></td><td><div class=\"dni-plaintext\">4</div></td></tr></tbody></table></td></tr><tr><td>5</td><td><table><thead><tr><th>X</th><th>Y</th></tr></thead><tbody><tr><td><div class=\"dni-plaintext\">6</div></td><td><div class=\"dni-plaintext\">4</div></td></tr></tbody></table></td><td><table><thead><tr><th>X</th><th>Y</th></tr></thead><tbody><tr><td><div class=\"dni-plaintext\">2</div></td><td><div class=\"dni-plaintext\">0</div></td></tr></tbody></table></td></tr><tr><td>6</td><td><table><thead><tr><th>X</th><th>Y</th></tr></thead><tbody><tr><td><div class=\"dni-plaintext\">0</div></td><td><div class=\"dni-plaintext\">9</div></td></tr></tbody></table></td><td><table><thead><tr><th>X</th><th>Y</th></tr></thead><tbody><tr><td><div class=\"dni-plaintext\">2</div></td><td><div class=\"dni-plaintext\">9</div></td></tr></tbody></table></td></tr><tr><td>7</td><td><table><thead><tr><th>X</th><th>Y</th></tr></thead><tbody><tr><td><div class=\"dni-plaintext\">3</div></td><td><div class=\"dni-plaintext\">4</div></td></tr></tbody></table></td><td><table><thead><tr><th>X</th><th>Y</th></tr></thead><tbody><tr><td><div class=\"dni-plaintext\">1</div></td><td><div class=\"dni-plaintext\">4</div></td></tr></tbody></table></td></tr><tr><td>8</td><td><table><thead><tr><th>X</th><th>Y</th></tr></thead><tbody><tr><td><div class=\"dni-plaintext\">0</div></td><td><div class=\"dni-plaintext\">0</div></td></tr></tbody></table></td><td><table><thead><tr><th>X</th><th>Y</th></tr></thead><tbody><tr><td><div class=\"dni-plaintext\">8</div></td><td><div class=\"dni-plaintext\">8</div></td></tr></tbody></table></td></tr><tr><td>9</td><td><table><thead><tr><th>X</th><th>Y</th></tr></thead><tbody><tr><td><div class=\"dni-plaintext\">5</div></td><td><div class=\"dni-plaintext\">5</div></td></tr></tbody></table></td><td><table><thead><tr><th>X</th><th>Y</th></tr></thead><tbody><tr><td><div class=\"dni-plaintext\">8</div></td><td><div class=\"dni-plaintext\">2</div></td></tr></tbody></table></td></tr></tbody></table>"
      ]
     },
     "metadata": {},
     "output_type": "display_data"
    }
   ],
   "source": [
    "\n",
    "sample.Split(Environment.NewLine) |> Array.toList\n",
    "    |> List.map parseRow |> List.map (fun l -> toDouble l |> toLine)\n",
    "    "
   ]
  }
 ],
 "metadata": {
  "kernelspec": {
   "display_name": ".NET (C#)",
   "language": "C#",
   "name": ".net-csharp"
  },
  "language_info": {
   "file_extension": ".cs",
   "mimetype": "text/x-csharp",
   "name": "C#",
   "pygments_lexer": "csharp",
   "version": "9.0"
  },
  "orig_nbformat": 4
 },
 "nbformat": 4,
 "nbformat_minor": 2
}
