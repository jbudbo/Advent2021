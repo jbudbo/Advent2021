{
 "cells": [
  {
   "cell_type": "markdown",
   "metadata": {
    "dotnet_interactive": {
     "language": "csharp"
    }
   },
   "source": [
    "# Day 11: Dumbo Octopus\n",
    "There are 100 octopuses arranged neatly in a 10 by 10 grid. Each octopus slowly gains energy over time and flashes brightly for a moment when its energy is full.\n",
    "The energy level of each octopus is a value between 0 and 9.\n",
    "During a single step, the following occurs:\n",
    "\n",
    "First, the energy level of each octopus increases by 1.\n",
    "Then, any octopus with an energy level greater than 9 flashes. This increases the energy level of all adjacent octopuses by 1, including octopuses that are diagonally adjacent. If this causes an octopus to have an energy level greater than 9, it also flashes. This process continues as long as new octopuses keep having their energy level increased beyond 9. (An octopus can only flash at most once per step.)\n",
    "Finally, any octopus that flashed during this step has its energy level set to 0, as it used all of its energy to flash.\n",
    "Adjacent flashes can cause an octopus to flash on a step even if it begins that step with very little energy.\n",
    "How many total flashes are there after 100 steps?"
   ]
  },
  {
   "cell_type": "code",
   "execution_count": null,
   "metadata": {
    "dotnet_interactive": {
     "language": "csharp"
    }
   },
   "outputs": [
    {
     "data": {
      "text/html": [
       "<table><thead><tr><th><i>index</i></th><th>value</th></tr></thead><tbody><tr><td>0</td><td><div class=\"dni-plaintext\">[ ( 4, 1 ), ( 1, 1 ), ( 1, 1 ), ( 2, 1 ), ( 2, 1 ), ( 5, 1 ), ( 6, 1 ), ( 3, 1 ), ( 7, 1 ), ( 2, 1 ) ]</div></td></tr><tr><td>1</td><td><div class=\"dni-plaintext\">[ ( 3, 1 ), ( 1, 1 ), ( 4, 1 ), ( 3, 1 ), ( 2, 1 ), ( 5, 1 ), ( 3, 1 ), ( 7, 1 ), ( 1, 1 ), ( 2, 1 ) ]</div></td></tr><tr><td>2</td><td><div class=\"dni-plaintext\">[ ( 4, 1 ), ( 5, 1 ), ( 1, 1 ), ( 6, 1 ), ( 8, 1 ), ( 4, 1 ), ( 8, 1 ), ( 6, 1 ), ( 3, 1 ), ( 1, 1 ) ]</div></td></tr><tr><td>3</td><td><div class=\"dni-plaintext\">[ ( 3, 1 ), ( 7, 1 ), ( 8, 1 ), ( 3, 1 ), ( 4, 1 ), ( 7, 1 ), ( 7, 1 ), ( 1, 1 ), ( 3, 1 ), ( 7, 1 ) ]</div></td></tr><tr><td>4</td><td><div class=\"dni-plaintext\">[ ( 3, 1 ), ( 7, 1 ), ( 4, 1 ), ( 6, 1 ), ( 7, 1 ), ( 2, 1 ), ( 3, 1 ), ( 5, 1 ), ( 8, 1 ), ( 2, 1 ) ]</div></td></tr><tr><td>5</td><td><div class=\"dni-plaintext\">[ ( 5, 1 ), ( 8, 1 ), ( 6, 1 ), ( 1, 1 ), ( 3, 1 ), ( 5, 1 ), ( 8, 1 ), ( 8, 1 ), ( 8, 1 ), ( 4, 1 ) ]</div></td></tr><tr><td>6</td><td><div class=\"dni-plaintext\">[ ( 4, 1 ), ( 8, 1 ), ( 4, 1 ), ( 3, 1 ), ( 3, 1 ), ( 5, 1 ), ( 1, 1 ), ( 7, 1 ), ( 7, 1 ), ( 4, 1 ) ]</div></td></tr><tr><td>7</td><td><div class=\"dni-plaintext\">[ ( 2, 1 ), ( 3, 1 ), ( 1, 1 ), ( 6, 1 ), ( 4, 1 ), ( 4, 1 ), ( 7, 1 ), ( 6, 1 ), ( 2, 1 ), ( 1, 1 ) ]</div></td></tr><tr><td>8</td><td><div class=\"dni-plaintext\">[ ( 6, 1 ), ( 6, 1 ), ( 4, 1 ), ( 3, 1 ), ( 8, 1 ), ( 1, 1 ), ( 7, 1 ), ( 7, 1 ), ( 4, 1 ), ( 5, 1 ) ]</div></td></tr><tr><td>9</td><td><div class=\"dni-plaintext\">[ ( 6, 1 ), ( 3, 1 ), ( 6, 1 ), ( 6, 1 ), ( 8, 1 ), ( 1, 1 ), ( 5, 1 ), ( 8, 1 ), ( 6, 1 ), ( 8, 1 ) ]</div></td></tr></tbody></table>"
      ]
     },
     "metadata": {},
     "output_type": "display_data"
    }
   ],
   "source": [
    "let inline stepGrid (grid:seq<seq<int*int>>) =\n",
    "    let inline bump (b,carry) = match b + 1 with 10 -> (0, carry + 1) | a -> (a,carry)\n",
    "    seq {\n",
    "        for y = 0 to 9 do\n",
    "            yield grid |> Seq.item y |> Seq.map bump\n",
    "    }\n",
    "    // |> Array2D.mapi bump \n",
    "\n",
    "let rec runSteps max acc grid = \n",
    "    if acc = max then grid\n",
    "    else grid |> stepGrid |> runSteps max (acc+1)\n",
    "\n",
    "System.IO.File.ReadAllLines(\"../Data/Day11.txt\")\n",
    "|> Array.map (fun line -> Seq.map (fun c -> (int c - int '0', 0)) line)\n",
    "|> runSteps 10 0"
   ]
  }
 ],
 "metadata": {
  "kernelspec": {
   "display_name": ".NET (C#)",
   "language": "C#",
   "name": ".net-csharp"
  },
  "language_info": {
   "file_extension": ".cs",
   "mimetype": "text/x-csharp",
   "name": "C#",
   "pygments_lexer": "csharp",
   "version": "9.0"
  },
  "orig_nbformat": 4
 },
 "nbformat": 4,
 "nbformat_minor": 2
}
