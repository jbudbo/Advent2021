{
 "cells": [
  {
   "cell_type": "markdown",
   "metadata": {
    "dotnet_interactive": {
     "language": "csharp"
    }
   },
   "source": [
    "# Day 11: Dumbo Octopus\n",
    "There are 100 octopuses arranged neatly in a 10 by 10 grid. Each octopus slowly gains energy over time and flashes brightly for a moment when its energy is full.\n",
    "The energy level of each octopus is a value between 0 and 9.\n",
    "During a single step, the following occurs:\n",
    "\n",
    "First, the energy level of each octopus increases by 1.\n",
    "Then, any octopus with an energy level greater than 9 flashes. This increases the energy level of all adjacent octopuses by 1, including octopuses that are diagonally adjacent. If this causes an octopus to have an energy level greater than 9, it also flashes. This process continues as long as new octopuses keep having their energy level increased beyond 9. (An octopus can only flash at most once per step.)\n",
    "Finally, any octopus that flashed during this step has its energy level set to 0, as it used all of its energy to flash.\n",
    "Adjacent flashes can cause an octopus to flash on a step even if it begins that step with very little energy.\n",
    "How many total flashes are there after 100 steps?"
   ]
  },
  {
   "cell_type": "code",
   "execution_count": null,
   "metadata": {
    "dotnet_interactive": {
     "language": "fsharp"
    }
   },
   "outputs": [],
   "source": [
    "/// Clamps a given input to a maximum\n",
    "let inline ceilingAt max i = if i > max then max else i\n",
    "/// Clamps a given input to a minimum\n",
    "let inline floorAt min i = if i < min then min else i\n",
    "/// Clamps a value between a min and max\n",
    "let inline clampBetween min max i = i |> floorAt min |> ceilingAt max\n",
    "\n",
    "/// Expands a string of numbers into a sequence of floats less than 1.0\n",
    "let inline toFloats (str:string) =\n",
    "    let rec decompose (buff) (l:Int64)  =\n",
    "        let b = seq { yield l |> mod10 |> decimal |> (fun fl -> fl / 10m); yield! buff }\n",
    "        if l < 10 then b\n",
    "        else decompose b (l / 10L)\n",
    "\n",
    "    str |> int64 |> decompose Seq.empty"
   ]
  },
  {
   "cell_type": "code",
   "execution_count": null,
   "metadata": {
    "dotnet_interactive": {
     "language": "csharp"
    }
   },
   "outputs": [
    {
     "data": {
      "text/html": [
       "<table><thead><tr><th><i>index</i></th><th>value</th></tr></thead><tbody><tr><td>0</td><td><div class=\"dni-plaintext\">[ 0.5, 0.2, 0.2, 0.3, 0.3, 0.6, 0.7, 0.4, 0.8, 0.3 ]</div></td></tr><tr><td>1</td><td><div class=\"dni-plaintext\">[ 0.4, 0.2, 0.5, 0.4, 0.3, 0.6, 0.4, 0.8, 0.2, 0.3 ]</div></td></tr><tr><td>2</td><td><div class=\"dni-plaintext\">[ 0.5, 0.6, 0.2, 0.7, 0.9, 0.5, 0.9, 0.7, 0.4, 0.2 ]</div></td></tr><tr><td>3</td><td><div class=\"dni-plaintext\">[ 0.4, 0.8, 0.9, 0.4, 0.5, 0.8, 0.8, 0.2, 0.4, 0.8 ]</div></td></tr><tr><td>4</td><td><div class=\"dni-plaintext\">[ 0.4, 0.8, 0.5, 0.7, 0.8, 0.3, 0.4, 0.6, 0.9, 0.3 ]</div></td></tr><tr><td>5</td><td><div class=\"dni-plaintext\">[ 0.6, 0.9, 0.7, 0.2, 0.4, 0.6, 0.9, 0.9, 0.9, 0.5 ]</div></td></tr><tr><td>6</td><td><div class=\"dni-plaintext\">[ 0.5, 0.9, 0.5, 0.4, 0.4, 0.6, 0.2, 0.8, 0.8, 0.5 ]</div></td></tr><tr><td>7</td><td><div class=\"dni-plaintext\">[ 0.3, 0.4, 0.2, 0.7, 0.5, 0.5, 0.8, 0.7, 0.3, 0.2 ]</div></td></tr><tr><td>8</td><td><div class=\"dni-plaintext\">[ 0.7, 0.7, 0.5, 0.4, 0.9, 0.2, 0.8, 0.8, 0.5, 0.6 ]</div></td></tr><tr><td>9</td><td><div class=\"dni-plaintext\">[ 0.7, 0.4, 0.7, 0.7, 0.9, 0.2, 0.6, 0.9, 0.7, 0.9 ]</div></td></tr></tbody></table>"
      ]
     },
     "metadata": {},
     "output_type": "display_data"
    },
    {
     "data": {
      "text/html": [
       "<table><thead><tr><th><i>index</i></th><th>value</th></tr></thead><tbody><tr><td>0</td><td><div class=\"dni-plaintext\">0.2</div></td></tr><tr><td>1</td><td><div class=\"dni-plaintext\">0.4</div></td></tr><tr><td>2</td><td><div class=\"dni-plaintext\">0.2</div></td></tr></tbody></table>"
      ]
     },
     "metadata": {},
     "output_type": "display_data"
    }
   ],
   "source": [
    "let getNeighborsFor (x:int,y:int) (data:seq<seq<decimal>>) = seq {\n",
    "    for a in [|floorAt 0 (y-1)..ceilingAt 9 (y+1)|] do\n",
    "        for b in [|floorAt 0 (x-1)..ceilingAt 9 (x+1)|] do\n",
    "            if a <> y || b <> x then yield data |> Seq.item a |> Seq.item b\n",
    "}\n",
    "\n",
    "/// Move the game state forward by a single step\n",
    "let inline takeStep ceiling (data:seq<seq<decimal>>) =\n",
    "    data |> Seq.map (fun sf -> sf |> Seq.map (fun f -> f + 0.1m |> ceilingAt (ceiling+1m)))\n",
    "\n",
    "/// Progresses the game forward by the number of steps starting a given step\n",
    "let rec takeSteps stop step data =\n",
    "    if stop = step then data\n",
    "    else data |> takeStep step |> takeSteps stop (step + 1m)\n",
    "\n",
    "let answer = \n",
    "    System.IO.File.ReadAllLines(\"../Data/Day11.txt\")\n",
    "    |> Array.map toFloats\n",
    "    |> takeSteps 1m 0m\n",
    "\n",
    "display answer\n",
    "answer |> getNeighborsFor (0,0) |> display"
   ]
  },
  {
   "cell_type": "markdown",
   "metadata": {},
   "source": [
    "## Thoughts\n",
    "After applying brute force to 10 iterations of just flashing individuals with no spillover, we can determine that the flash rate for each squid is equal to the number of steps / 10. In other words if a squid were alone, over 120 steps a single squid would flash 12 times and after 120 steps, the squid's energy level would be equal to where it started as 120 is a multiple of 10.\n",
    "\n",
    "Given the goal is to count the number of flashes, we know the answer with ***at least*** be equal to the number of squids * (steps / 10). I.E. 1 squid over 120 steps would be 12 flashes; 20 squids over 109 steps would be 200 flashes.\n",
    "\n",
    "We also know that a squid cannot flash more than once each step which means that theoretically, if each squid somehow managed to flash every step, then they'd ***at most*** contribute a total number of flashes equal to the number of steps. I.E. we can use the step counter as max/clamp per step to determine whether a squid has flashed per step.\n",
    "\n",
    "To solve this, we'll decompose each number in each string into a floating point number less than 1.0. Each step we'll increment by .1 which will allow our whole number to keep the state of our flashes. At the same time we'll clamp our whole number to never be higher than our step. This way when we hit our max steps, we'll just sum our whole numbers for the answer.\n",
    "> An observation around how the problem is formed: It would appear from the description that once a squid has flashed, their power level wont increase from 0 again during this step despite any influence from neighbors. I.E. it says clearly that they wont flash twice but never calls out that they can't grow to the edge of flashing. I'm assuming from their example that once flashed, they're spent and wont grow strength again until the next step.\n",
    "\n",
    "The problem is going to be when trying to determine if a neighbor has flashed. We can't just say that they have if their whole number equals the step count because not every on flashes each step though some do."
   ]
  }
 ],
 "metadata": {
  "kernelspec": {
   "display_name": ".NET (C#)",
   "language": "C#",
   "name": ".net-csharp"
  },
  "language_info": {
   "file_extension": ".cs",
   "mimetype": "text/x-csharp",
   "name": "C#",
   "pygments_lexer": "csharp",
   "version": "9.0"
  },
  "orig_nbformat": 4
 },
 "nbformat": 4,
 "nbformat_minor": 2
}
