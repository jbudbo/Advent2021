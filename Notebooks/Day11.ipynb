{
 "cells": [
  {
   "cell_type": "markdown",
   "metadata": {
    "dotnet_interactive": {
     "language": "csharp"
    }
   },
   "source": [
    "# Day 11: Dumbo Octopus\n",
    "There are 100 octopuses arranged neatly in a 10 by 10 grid. Each octopus slowly gains energy over time and flashes brightly for a moment when its energy is full.\n",
    "The energy level of each octopus is a value between 0 and 9.\n",
    "During a single step, the following occurs:\n",
    "\n",
    "First, the energy level of each octopus increases by 1.\n",
    "Then, any octopus with an energy level greater than 9 flashes. This increases the energy level of all adjacent octopuses by 1, including octopuses that are diagonally adjacent. If this causes an octopus to have an energy level greater than 9, it also flashes. This process continues as long as new octopuses keep having their energy level increased beyond 9. (An octopus can only flash at most once per step.)\n",
    "Finally, any octopus that flashed during this step has its energy level set to 0, as it used all of its energy to flash.\n",
    "Adjacent flashes can cause an octopus to flash on a step even if it begins that step with very little energy.\n",
    "How many total flashes are there after 100 steps?"
   ]
  },
  {
   "cell_type": "code",
   "execution_count": null,
   "metadata": {
    "dotnet_interactive": {
     "language": "csharp"
    }
   },
   "outputs": [
    {
     "data": {
      "text/html": [
       "<table><thead><tr><th><i>index</i></th><th>value</th></tr></thead><tbody><tr><td>0</td><td><div class=\"dni-plaintext\">[ 0.4, 0.1, 0.1, 0.2, 0.2, 0.5, 0.6, 0.3, 0.7, 0.2 ]</div></td></tr><tr><td>1</td><td><div class=\"dni-plaintext\">[ 0.3, 0.1, 0.4, 0.3, 0.2, 0.5, 0.3, 0.7, 0.1, 0.2 ]</div></td></tr><tr><td>2</td><td><div class=\"dni-plaintext\">[ 0.4, 0.5, 0.1, 0.6, 0.8, 0.4, 0.8, 0.6, 0.3, 0.1 ]</div></td></tr><tr><td>3</td><td><div class=\"dni-plaintext\">[ 0.3, 0.7, 0.8, 0.3, 0.4, 0.7, 0.7, 0.1, 0.3, 0.7 ]</div></td></tr><tr><td>4</td><td><div class=\"dni-plaintext\">[ 0.3, 0.7, 0.4, 0.6, 0.7, 0.2, 0.3, 0.5, 0.8, 0.2 ]</div></td></tr><tr><td>5</td><td><div class=\"dni-plaintext\">[ 0.5, 0.8, 0.6, 0.1, 0.3, 0.5, 0.8, 0.8, 0.8, 0.4 ]</div></td></tr><tr><td>6</td><td><div class=\"dni-plaintext\">[ 0.4, 0.8, 0.4, 0.3, 0.3, 0.5, 0.1, 0.7, 0.7, 0.4 ]</div></td></tr><tr><td>7</td><td><div class=\"dni-plaintext\">[ 0.2, 0.3, 0.1, 0.6, 0.4, 0.4, 0.7, 0.6, 0.2, 0.1 ]</div></td></tr><tr><td>8</td><td><div class=\"dni-plaintext\">[ 0.6, 0.6, 0.4, 0.3, 0.8, 0.1, 0.7, 0.7, 0.4, 0.5 ]</div></td></tr><tr><td>9</td><td><div class=\"dni-plaintext\">[ 0.6, 0.3, 0.6, 0.6, 0.8, 0.1, 0.5, 0.8, 0.6, 0.8 ]</div></td></tr></tbody></table>"
      ]
     },
     "metadata": {},
     "output_type": "display_data"
    }
   ],
   "source": [
    "let inline stepGrid (grid:seq<seq<int*int>>) =\n",
    "    let inline bump (b,carry) = match b + 1 with 10 -> (0, carry + 1) | a -> (a,carry)\n",
    "    seq {\n",
    "        for y = 0 to 9 do\n",
    "            yield grid |> Seq.item y |> Seq.map bump\n",
    "    }\n",
    "    // |> Array2D.mapi bump \n",
    "\n",
    "let rec runSteps max acc grid = \n",
    "    if acc = max then grid\n",
    "    else grid |> stepGrid |> runSteps max (acc+1)\n",
    "\n",
    "/// Expands a string of numbers into a sequence of floats less than 1.0\n",
    "let inline expand (str:string) =\n",
    "    let rec decompose (buff) (l:Int64)  =\n",
    "        let tail  = l % 10L |> float |> (fun fl -> fl / 10.0)\n",
    "        let head :Int64 = l / 10L\n",
    "        let b = seq { yield tail; yield! buff }\n",
    "        if l < 10 then \n",
    "            b\n",
    "        else \n",
    "            decompose b head\n",
    "\n",
    "    str |> int64 |> decompose Seq.empty\n",
    "\n",
    "// let answer = \n",
    "System.IO.File.ReadAllLines(\"../Data/Day11.txt\")\n",
    "|> Array.map expand\n",
    "    // |> Array.map (fun line -> Seq.map (fun c -> double (int c - int '0')) line)\n",
    "// |> runSteps 0 0\n",
    "\n",
    "// answer"
   ]
  },
  {
   "cell_type": "markdown",
   "metadata": {},
   "source": [
    "## Thoughts\n",
    "After applying brute force to 10 iterations of just flashing individuals with no spillover, we can determine that the flash rate for each squid is equal to the number of steps / 10. In other words if a squid were alone, over 120 steps a single squid would flash 12 times and after 120 steps, the squid's energy level would be equal to where it started as 120 is a multiple of 10.\n",
    "\n",
    "Given the goal is to count the number of flashes, we know the answer with ***at least*** be equal to the number of squids * (steps / 10). I.E. 1 squid over 120 steps would be 12 flashes; 20 squids over 109 steps would be 200 flashes.\n",
    "\n",
    "We also know that a squid cannot flash more than once each step which means that theoretically, if each squid somehow managed to flash every step, then they'd ***at most*** contribute a total number of flashes equal to the number of steps. I.E. we can use the step counter as max/clamp per step to determine whether a squid has flashed per step.\n",
    "\n",
    "To solve this, we'll decompose each number in each string into a floating point number less than 1.0. Each step we'll increment by .1 which will allow our whole number to keep the state of our flashes. At the same time we'll clamp our whole number to never be higher than our step. This way when we hit our max steps, we'll just sum our whole numbers for the answer."
   ]
  }
 ],
 "metadata": {
  "kernelspec": {
   "display_name": ".NET (C#)",
   "language": "C#",
   "name": ".net-csharp"
  },
  "language_info": {
   "file_extension": ".cs",
   "mimetype": "text/x-csharp",
   "name": "C#",
   "pygments_lexer": "csharp",
   "version": "9.0"
  },
  "orig_nbformat": 4
 },
 "nbformat": 4,
 "nbformat_minor": 2
}
