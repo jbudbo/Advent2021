{
 "cells": [
  {
   "cell_type": "markdown",
   "metadata": {},
   "source": [
    "# Day 14: Extended Polymerization\n",
    "* Brute forcing this one works ok for the first 10 however the processing time grows logarithmically as the steps increase.\n",
    "    * Try using arrays over anything else\n",
    "* It's not a matter of generating new strings and then breaking them up again\n",
    "    * I.e. If I find an insert at AC, rather than outputting ABC, keep it small and simple and output AB and BC"
   ]
  },
  {
   "cell_type": "code",
   "execution_count": null,
   "metadata": {
    "dotnet_interactive": {
     "language": "fsharp"
    }
   },
   "outputs": [
    {
     "data": {
      "text/html": [
       "<table><thead><tr><th><i>key</i></th><th>value</th></tr></thead><tbody><tr><td><div class=\"dni-plaintext\">[ B, C ]</div></td><td><div class=\"dni-plaintext\">1</div></td></tr><tr><td><div class=\"dni-plaintext\">[ C, B ]</div></td><td><div class=\"dni-plaintext\">1</div></td></tr><tr><td><div class=\"dni-plaintext\">[ C, H ]</div></td><td><div class=\"dni-plaintext\">1</div></td></tr><tr><td><div class=\"dni-plaintext\">[ C, N ]</div></td><td><div class=\"dni-plaintext\">1</div></td></tr><tr><td><div class=\"dni-plaintext\">[ H, B ]</div></td><td><div class=\"dni-plaintext\">1</div></td></tr><tr><td><div class=\"dni-plaintext\">[ N, B ]</div></td><td><div class=\"dni-plaintext\">1</div></td></tr><tr><td><div class=\"dni-plaintext\">[ N, C ]</div></td><td><div class=\"dni-plaintext\">2</div></td></tr><tr><td><div class=\"dni-plaintext\">[ N, N ]</div></td><td><div class=\"dni-plaintext\">1</div></td></tr></tbody></table>"
      ]
     },
     "metadata": {},
     "output_type": "display_data"
    }
   ],
   "source": [
    "let sample = \"NNCB\n",
    "\n",
    "CH -> B\n",
    "HH -> N\n",
    "CB -> H\n",
    "NH -> C\n",
    "HB -> C\n",
    "HC -> B\n",
    "HN -> C\n",
    "NN -> C\n",
    "BH -> H\n",
    "NC -> B\n",
    "NB -> B\n",
    "BN -> B\n",
    "BB -> N\n",
    "BC -> B\n",
    "CC -> N\n",
    "CN -> C\"\n",
    "\n",
    "let inline arrTupe (arr:'T[]) = (arr.[0] |> Seq.toArray, arr.[1] |> char)\n",
    "let inline split (str:string) = str.Split(\" -> \") |> arrTupe\n",
    "\n",
    "let data = sample.Split(Environment.NewLine)\n",
    "// let data = System.IO.File.ReadAllLines(\"../Data/Day14.txt\")\n",
    "\n",
    "let rules = data.[2..] |> Array.map split |> Map.ofArray\n",
    "let pairs = data.[0] |> Seq.windowed 2 |> Seq.countBy id |> Map.ofSeq\n",
    "\n",
    "let inline runXTimes X (r:Map<char[],char>) (p:Map<char[],int>) =\n",
    "    let inline aggPairs (data:Map<char[],int>) =\n",
    "        [\n",
    "            for pair in data do\n",
    "                let insert = Map.find (pair.Key) r\n",
    "                let left = pair.Key.[0]\n",
    "                let right = pair.Key.[1]\n",
    "                yield ([|left;insert|], 1)\n",
    "                yield ([|insert;right|], 1)\n",
    "        ] |> Map.ofList |> Map.toArray |> Array.append (Map.toArray p)\n",
    "        |> Array.groupBy fst |> Array.map (fun (t,a) -> (t,Array.sumBy snd a))\n",
    "        |> Map.ofArray\n",
    "\n",
    "    let rec iterate (i:int) data = if i = X then data else data |> aggPairs |> iterate (i + 1)\n",
    "\n",
    "    iterate 0 p\n",
    "    \n",
    "runXTimes 1 rules pairs"
   ]
  }
 ],
 "metadata": {
  "kernelspec": {
   "display_name": ".NET (C#)",
   "language": "C#",
   "name": ".net-csharp"
  },
  "language_info": {
   "file_extension": ".cs",
   "mimetype": "text/x-csharp",
   "name": "C#",
   "pygments_lexer": "csharp",
   "version": "9.0"
  },
  "orig_nbformat": 4
 },
 "nbformat": 4,
 "nbformat_minor": 2
}
