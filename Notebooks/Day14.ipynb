{
 "cells": [
  {
   "cell_type": "markdown",
   "metadata": {},
   "source": [
    "# Day 14: Extended Polymerization\n",
    "* Brute forcing this one works ok for the first 10 however the processing time grows logarithmically as the steps increase.\n",
    "    * Try using arrays over anything else\n",
    "* It's not a matter of generating new strings and then breaking them up again\n",
    "    * I.e. If I find an insert at AC, rather than outputting ABC, keep it small and simple and output AB and BC"
   ]
  },
  {
   "cell_type": "code",
   "execution_count": null,
   "metadata": {
    "dotnet_interactive": {
     "language": "fsharp"
    }
   },
   "outputs": [
    {
     "data": {
      "text/html": [
       "<div class=\"dni-plaintext\">2068</div>"
      ]
     },
     "metadata": {},
     "output_type": "display_data"
    }
   ],
   "source": [
    "let sample = \"NNCB\n",
    "\n",
    "CH -> B\n",
    "HH -> N\n",
    "CB -> H\n",
    "NH -> C\n",
    "HB -> C\n",
    "HC -> B\n",
    "HN -> C\n",
    "NN -> C\n",
    "BH -> H\n",
    "NC -> B\n",
    "NB -> B\n",
    "BN -> B\n",
    "BB -> N\n",
    "BC -> B\n",
    "CC -> N\n",
    "CN -> C\"\n",
    "\n",
    "//let data = sample.Split(Environment.NewLine)\n",
    "let data = System.IO.File.ReadAllLines(\"../Data/Day14.txt\")\n",
    "let start = Array.head data |> Seq.windowed 2 |> Seq.toArray\n",
    "let inserts:Map<char[],char> = data |> Array.tail |> Array.tail |> Array.map(fun i -> i.Split(\" -> \")) |> Array.map (fun l -> (Array.head l |> Seq.toArray, Array.tail l |> Array.head |> char)) |> Map.ofArray\n",
    "\n",
    "let inline runXInlays X insertMap baseline =\n",
    "    let inline run buff =\n",
    "        [|\n",
    "            for sb in buff do\n",
    "                match Map.tryFind sb insertMap with\n",
    "                | None -> yield sb\n",
    "                | Some(value) ->\n",
    "                    yield [|(Array.item 0 sb);value|]\n",
    "                    yield [|value;(Array.item 1 sb)|]\n",
    "        |]\n",
    "    let rec iteration i data = if i = X then data else data |> run |> iteration (i+1)\n",
    "\n",
    "    iteration 0 baseline\n",
    "\n",
    "runXInlays 10 inserts start\n",
    "|> Array.transpose |> Array.head |> Array.append (Array.last start)\n",
    "|> Array.countBy id\n",
    "|> (fun s -> (Array.maxBy snd s, Array.minBy snd s))\n",
    "|>(fun ((_,a),(_,b)) -> a - b)"
   ]
  }
 ],
 "metadata": {
  "kernelspec": {
   "display_name": ".NET (C#)",
   "language": "C#",
   "name": ".net-csharp"
  },
  "language_info": {
   "file_extension": ".cs",
   "mimetype": "text/x-csharp",
   "name": "C#",
   "pygments_lexer": "csharp",
   "version": "9.0"
  },
  "orig_nbformat": 4
 },
 "nbformat": 4,
 "nbformat_minor": 2
}
