{
 "cells": [
  {
   "cell_type": "markdown",
   "metadata": {},
   "source": [
    "# Day 14: Extended Polymerization\n",
    "* Brute forcing this one works ok for the first 10 however the processing time grows logarithmically as the steps increase.\n",
    "    * Try using arrays over anything else\n",
    "* It's not a matter of generating new strings and then breaking them up again\n",
    "    * I.e. If I find an insert at AC, rather than outputting ABC, keep it small and simple and output AB and BC"
   ]
  },
  {
   "cell_type": "code",
   "execution_count": null,
   "metadata": {
    "dotnet_interactive": {
     "language": "fsharp"
    }
   },
   "outputs": [],
   "source": [
    "let inline inlaySeq (i:Map<string,char>) (sequence:seq<char>) :seq<char> =\n",
    "    sequence |> Seq.windowed 2 |> (fun s -> seq {\n",
    "        yield s |> Seq.head |> Seq.head\n",
    "        for x in s do\n",
    "            match Map.tryFind (String.Concat(x)) i with\n",
    "            | Some(value) -> yield value; yield! Seq.tail x;\n",
    "            | None -> ignore x\n",
    "    })\n",
    "let runXInlays (x:int) (i:Map<string,char>) (start:seq<char>) :seq<char> =\n",
    "    let rec runX (round:int) (s:seq<char>) :seq<char> =\n",
    "        if round = x then s else s |> inlaySeq i |> runX (round + 1)\n",
    "\n",
    "    runX 0 start\n",
    "\n",
    "let sample = \"NNCB\n",
    "\n",
    "CH -> B\n",
    "HH -> N\n",
    "CB -> H\n",
    "NH -> C\n",
    "HB -> C\n",
    "HC -> B\n",
    "HN -> C\n",
    "NN -> C\n",
    "BH -> H\n",
    "NC -> B\n",
    "NB -> B\n",
    "BN -> B\n",
    "BB -> N\n",
    "BC -> B\n",
    "CC -> N\n",
    "CN -> C\"\n",
    "\n",
    "//let start::t = sample.Split(Environment.NewLine) |> Array.toList\n",
    "let start::t = System.IO.File.ReadAllLines(\"../Data/Day14.txt\") |> Array.toList\n",
    "let inserts = t.Tail |> List.map(fun i -> i.Split(\" -> \")) |> List.map (fun l -> (Array.head l, Array.tail l |> Array.head |> char)) |> Map.ofList\n",
    "\n",
    "runXInlays 30 inserts start |> Seq.countBy id |> (fun s -> (Seq.maxBy snd s, Seq.minBy snd s)) |> (fun ((_,a),(_,b)) -> a - b)\n"
   ]
  }
 ],
 "metadata": {
  "kernelspec": {
   "display_name": ".NET (C#)",
   "language": "C#",
   "name": ".net-csharp"
  },
  "language_info": {
   "file_extension": ".cs",
   "mimetype": "text/x-csharp",
   "name": "C#",
   "pygments_lexer": "csharp",
   "version": "9.0"
  },
  "orig_nbformat": 4
 },
 "nbformat": 4,
 "nbformat_minor": 2
}
