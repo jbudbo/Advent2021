{
 "cells": [
  {
   "cell_type": "markdown",
   "metadata": {},
   "source": [
    "# Day 3, Binary Diagnostic\n",
    "## Use the binary numbers in your diagnostic report to calculate the gamma rate and epsilon rate, then multiply them together. \n",
    "You need to use the binary numbers in the diagnostic report to generate two new binary numbers (called the gamma rate and the epsilon rate). The power consumption can then be found by multiplying the gamma rate by the epsilon rate."
   ]
  },
  {
   "cell_type": "code",
   "execution_count": null,
   "metadata": {
    "dotnet_interactive": {
     "language": "fsharp"
    }
   },
   "outputs": [],
   "source": [
    "let divide source = ((0,0), source) ||> List.fold (fun (x,y) char -> match char with '1' -> (x + 1, y) | '0' -> (x, y + 1) | _ -> (x,y)) \n",
    "\n",
    "let significate (x,y) = if x >= y then ['1';'0'] else ['0';'1']\n",
    "\n",
    "let toNumber str = System.Convert.ToInt32(str, 2)\n",
    "\n",
    "let toString source = source |> Array.ofSeq |> (fun s -> new System.String(s))"
   ]
  },
  {
   "cell_type": "code",
   "execution_count": null,
   "metadata": {
    "dotnet_interactive": {
     "language": "fsharp"
    }
   },
   "outputs": [
    {
     "data": {
      "text/html": [
       "<div class=\"dni-plaintext\">198</div>"
      ]
     },
     "metadata": {},
     "output_type": "display_data"
    }
   ],
   "source": [
    "[\"00100\";\"11110\";\"10110\";\"10111\";\"10101\";\"01111\";\"00111\";\"11100\";\"10000\";\"11001\";\"00010\";\"01010\"]\n",
    "    |> List.map (fun l -> l.ToCharArray() |> Array.toList)\n",
    "    |> List.transpose\n",
    "    |> List.map divide //Item1: 1's count, Item2: 0's count\n",
    "    |> List.map significate // 0: mcb, 1: lcb\n",
    "    |> List.transpose // 0: Gamma, 1: epsilon\n",
    "    |> List.map (fun l -> l |> toString |> toNumber)\n",
    "    |> List.fold (*) 1"
   ]
  },
  {
   "cell_type": "code",
   "execution_count": null,
   "metadata": {
    "dotnet_interactive": {
     "language": "fsharp"
    }
   },
   "outputs": [
    {
     "data": {
      "text/html": [
       "<div class=\"dni-plaintext\">738234</div>"
      ]
     },
     "metadata": {},
     "output_type": "display_data"
    }
   ],
   "source": [
    "System.IO.File.ReadLines(\"../Data/Day3.txt\") |> Seq.toList\n",
    "    |> List.map (fun l -> l.ToCharArray() |> Array.toList)\n",
    "    |> List.transpose\n",
    "    |> List.map divide //Item1: 1's count, Item2: 0's count\n",
    "    |> List.map significate // 0: mcb, 1: lcb\n",
    "    |> List.transpose // 0: Gamma, 1: epsilon\n",
    "    |> List.map (fun l -> l |> toString |> toNumber)\n",
    "    |> List.fold (*) 1"
   ]
  },
  {
   "cell_type": "markdown",
   "metadata": {},
   "source": [
    "## Use the binary numbers in your diagnostic report to calculate the oxygen generator rating and CO2 scrubber rating, then multiply them together\n",
    ">To find the life support rating from sample, multiply the oxygen generator rating (23) by the CO2 scrubber rating (10) to get 230.\n"
   ]
  },
  {
   "cell_type": "code",
   "execution_count": null,
   "metadata": {
    "dotnet_interactive": {
     "language": "fsharp"
    }
   },
   "outputs": [
    {
     "data": {
      "text/html": [
       "<div class=\"dni-plaintext\">3969126</div>"
      ]
     },
     "metadata": {},
     "output_type": "display_data"
    }
   ],
   "source": [
    "// let expandBits = [\"00100\";\"11110\";\"10110\";\"10111\";\"10101\";\"01111\";\"00111\";\"11100\";\"10000\";\"11001\";\"00010\";\"01010\"] |> List.map (fun l -> l.ToCharArray() |> Array.toList)\n",
    "let expandBits = System.IO.File.ReadLines(\"../Data/Day3.txt\") |> Seq.toList |> List.map (fun l -> l.ToCharArray() |> Array.toList)\n",
    "let inline mcb l = l |> List.head\n",
    "let inline lcb l = l |> List.tail |> List.head\n",
    "\n",
    "let rec reduceBits op i bits =\n",
    "    if Seq.length bits = 1 then bits\n",
    "    else\n",
    "        let rb = bits |> List.transpose |> List.item i |> divide |> significate |> op\n",
    "        bits |> List.where (fun l -> l[i] = rb) |> reduceBits op (i+1)\n",
    "\n",
    "let inline reduceBy op = reduceBits op 0\n",
    "\n",
    "let o2 = expandBits |> reduceBy mcb |> List.map (fun l -> l |> toString |> toNumber) |> List.head\n",
    "let co2 = expandBits |> reduceBy lcb |> List.map (fun l -> l |> toString |> toNumber) |> List.head\n",
    "\n",
    "o2 * co2"
   ]
  }
 ],
 "metadata": {
  "kernelspec": {
   "display_name": ".NET (C#)",
   "language": "C#",
   "name": ".net-csharp"
  },
  "language_info": {
   "file_extension": ".cs",
   "mimetype": "text/x-csharp",
   "name": "C#",
   "pygments_lexer": "csharp",
   "version": "9.0"
  },
  "orig_nbformat": 4
 },
 "nbformat": 4,
 "nbformat_minor": 2
}
