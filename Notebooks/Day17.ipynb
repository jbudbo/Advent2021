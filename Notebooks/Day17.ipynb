{
 "cells": [
  {
   "cell_type": "markdown",
   "metadata": {
    "dotnet_interactive": {
     "language": "csharp"
    }
   },
   "source": [
    "# Day 17: Trick Shot\n",
    "* Peak height seems like an easy calculation as the upward velocity just drops by 1 each step and once we hit zero it wont go higher.\n",
    "* The hit tests is a little more involved but seems also pretty straight forward\n",
    "    * Basically we know that X will trend toward 0 and then settle there from either direction, so we can easily calculate if X will ever make it to our target and if it does, how many steps it'll take. For now we'll assume our X velocity will always be positive.\n",
    "    * For Y, our gravity constant is 1 which makes this easier. In other words we don't even need to check steps per say as Y will always hit 0 again before going negative. I.E, if our initial velocity is 2, our velocity over time will be 2 -> 1 -> 0 -> -1 -> -2 -> -3 -> -4 etc. This means our points after origin will be 2 -> 3 -> 3 -> 2 -> 0 -> -3 -> -7 etc. In this case it'd take 5 steps to be back to y=0 and then start dropping.\n",
    "        * If initial velocity is 3 then we get 3 -> 2 -> 1 -> 0 -> -1 -> -2 -> -3 -> -4, and 3 -> 5 -> 6 -> 6 -> 5 -> 3 -> 0 -> -4. That's 7 steps til touching origin again and our velocity from there is essentially -(1+v). \n",
    "        * Thought it may not matter, we can calculate the steps lost in upward velocity before we hit origin again by doing 2v+1\n",
    "        * So this is an easier calculation as we know our upward cancels in proportion to our start and from then provides us with an initial downward velocity to begin calculating for target breach. Which then simply becomes the same exercise as what we do for X"
   ]
  },
  {
   "cell_type": "code",
   "execution_count": null,
   "metadata": {
    "dotnet_interactive": {
     "language": "fsharp"
    }
   },
   "outputs": [
    {
     "ename": "Error",
     "evalue": "System.ArgumentException: The input sequence was empty. (Parameter 'source')\r\n   at Microsoft.FSharp.Collections.SeqModule.Last[T](IEnumerable`1 source)\r\n   at FSI_0066.getPeak(Tuple`2 _arg1, Tuple`2 _arg2, Int32 vx, Int32 vy)\r\n   at FSI_0066.findCandidates(Int32 x1, Int32 x2, Int32 y1, Int32 y2)\r\n   at <StartupCode$FSI_0066>.$FSI_0066.main@()",
     "output_type": "error",
     "traceback": [
      "System.ArgumentException: The input sequence was empty. (Parameter 'source')\r\n",
      "   at Microsoft.FSharp.Collections.SeqModule.Last[T](IEnumerable`1 source)\r\n",
      "   at FSI_0066.getPeak(Tuple`2 _arg1, Tuple`2 _arg2, Int32 vx, Int32 vy)\r\n",
      "   at FSI_0066.findCandidates(Int32 x1, Int32 x2, Int32 y1, Int32 y2)\r\n",
      "   at <StartupCode$FSI_0066>.$FSI_0066.main@()"
     ]
    }
   ],
   "source": [
    "let getPeak ((x1:int,x2:int),(y1,y2)) (vx:int, vy:int) =\n",
    "    //  Check if our X velocity will ever be enough to get us to target\n",
    "    let xSteps = Seq.unfold (fun (x,v) -> if v = 0 then None else match x + v with i when i > x2 -> None | i -> Some (i, (i, v - 1))) (0,vx)\n",
    "    if Seq.isEmpty xSteps then None\n",
    "    elif (Seq.last xSteps) < x1 then None\n",
    "    //  X trends toward 0 and stops so if we don't fall short we'll likely hit it\n",
    "    //  There is the posibility that our initial X velocity will overshoot the target on step 1, but we'll avoid that by not checking velocities\n",
    "    //      that could put us in that situation and thus simplifying our calculation\n",
    "    else\n",
    "        // On to calculating Y now\n",
    "        let startingDownwardVelocity = -(1+vy)\n",
    "        // So let's calculate all the points between our downward vel and our target to see if we get there\n",
    "        let ySteps = Seq.unfold (fun (y,v) -> match y + v with i when i < y1 -> None | i -> Some (i, (i, v - 1))) (0, startingDownwardVelocity)\n",
    "        if Seq.isEmpty ySteps then None\n",
    "        elif (Seq.last ySteps) > y2 then None\n",
    "        // If we got this far, then we'll land within our target so let's calculate our peak\n",
    "        else \n",
    "            Seq.unfold (fun (y,v) -> if v = 0 then None else Some (y + v, (y + v,v - 1))) (0, vy)\n",
    "            |> Seq.last |> Some\n",
    "        \n",
    "let findCandidates (x1:int,x2:int) (y1:int,y2:int) =\n",
    "    //  We know that any X velocity beyond our furthest target wont do any good so skip that\n",
    "    //  Same goes for our Y velocity but that is translated so we'll skip any -(v+1) velocities beyond our lowest point\n",
    "\n",
    "    [|\n",
    "        for x = 0 to x2 do\n",
    "            for y = 0 downto y1 + 1 do\n",
    "                getPeak ((x1,x2),(y1,y1)) (x,y)\n",
    "    |]\n",
    "\n",
    "findCandidates (20,30) (-10,-5)"
   ]
  },
  {
   "cell_type": "code",
   "execution_count": null,
   "metadata": {
    "dotnet_interactive": {
     "language": "fsharp"
    }
   },
   "outputs": [
    {
     "name": "stderr",
     "output_type": "stream",
     "text": [
      "Stopped due to error\n"
     ]
    },
    {
     "ename": "Error",
     "evalue": "input.fsx (4,9)-(4,22) typecheck warning Incomplete pattern matches on this expression. For example, the value '[_;_;_;_;_]' may indicate a case not covered by the pattern(s).\ninput.fsx (29,21)-(29,25) typecheck error This 'if' expression is missing an 'else' branch. Because 'if' is an expression, and not a statement, add an 'else' branch which also returns a value of type ''a option'.",
     "output_type": "error",
     "traceback": [
      "input.fsx (4,9)-(4,22) typecheck warning Incomplete pattern matches on this expression. For example, the value '[_;_;_;_;_]' may indicate a case not covered by the pattern(s).\n",
      "input.fsx (29,21)-(29,25) typecheck error This 'if' expression is missing an 'else' branch. Because 'if' is an expression, and not a statement, add an 'else' branch which also returns a value of type ''a option'."
     ]
    }
   ],
   "source": [
    "open System.Text.RegularExpressions\n",
    "\n",
    "type Bounds (coords:List<int>) =\n",
    "    let [x1;x2;y1;y2] = coords\n",
    "    member this.UL = (x1,y2)\n",
    "    member this.UR = (x2,y2)\n",
    "    member this.LL = (x1,y1)\n",
    "    member this.LR = (x2,y2)\n",
    "    member this.HitTest (x:int,y:int) :bool = x >= x1 && x <= x2 && y >= y1 && y <= y2\n",
    "    member this.IsBeyond (x:int,y:int) :bool = x > x2 || y < y1\n",
    "\n",
    "let (|Reg|_|) pattern input =\n",
    "   let m = Regex.Match(input,pattern)\n",
    "   if (m.Success) then Some(List.tail [ for g in m.Groups -> g.Value] |> List.map int) else None\n",
    "\n",
    "let parse str =\n",
    "    match str with\n",
    "    | Reg @\"target area: x=(\\d+)\\.\\.(\\d+), y=(-\\d+)..(-\\d+)\" a -> a\n",
    "    | _ -> failwith \"Bad input\"\n",
    "\n",
    "let inline step (px,py) (vx,vy) = (px+vx, py+vy)\n",
    "let inline adjustVel (vx,vy) = ((if vx > 0 then vx - 1 elif vx < 0 then vx + 1 else 0), vy - 1)\n",
    "\n",
    "let sampleTargetArea = \"target area: x=20..30, y=-10..-5\"\n",
    "\n",
    "let target = parse sampleTargetArea |> Bounds\n",
    "\n",
    "let rec go point vel s =\n",
    "    if s > 100 then None\n",
    "    let newPoint = step point vel\n",
    "    match target.IsBeyond newPoint with\n",
    "    | true -> None\n",
    "    | false ->\n",
    "        match target.HitTest newPoint with\n",
    "        | true -> Some s\n",
    "        | false ->\n",
    "            let newVel = adjustVel vel\n",
    "            go newPoint newVel (s + 1)\n",
    "\n",
    "go (0,0) (7,2) 0"
   ]
  },
  {
   "cell_type": "code",
   "execution_count": null,
   "metadata": {
    "dotnet_interactive": {
     "language": "fsharp"
    }
   },
   "outputs": [
    {
     "data": {
      "text/html": [
       "<table><thead><tr><th><i>index</i></th><th>value</th></tr></thead><tbody><tr><td>0</td><td><div class=\"dni-plaintext\">10</div></td></tr><tr><td>1</td><td><div class=\"dni-plaintext\">9</div></td></tr><tr><td>2</td><td><div class=\"dni-plaintext\">8</div></td></tr><tr><td>3</td><td><div class=\"dni-plaintext\">7</div></td></tr><tr><td>4</td><td><div class=\"dni-plaintext\">6</div></td></tr><tr><td>5</td><td><div class=\"dni-plaintext\">5</div></td></tr><tr><td>6</td><td><div class=\"dni-plaintext\">4</div></td></tr><tr><td>7</td><td><div class=\"dni-plaintext\">3</div></td></tr><tr><td>8</td><td><div class=\"dni-plaintext\">2</div></td></tr><tr><td>9</td><td><div class=\"dni-plaintext\">1</div></td></tr><tr><td>10</td><td><div class=\"dni-plaintext\">0</div></td></tr><tr><td>11</td><td><div class=\"dni-plaintext\">-10</div></td></tr><tr><td>12</td><td><div class=\"dni-plaintext\">-9</div></td></tr><tr><td>13</td><td><div class=\"dni-plaintext\">-8</div></td></tr><tr><td>14</td><td><div class=\"dni-plaintext\">-7</div></td></tr><tr><td>15</td><td><div class=\"dni-plaintext\">-6</div></td></tr><tr><td>16</td><td><div class=\"dni-plaintext\">-5</div></td></tr><tr><td>17</td><td><div class=\"dni-plaintext\">-4</div></td></tr><tr><td>18</td><td><div class=\"dni-plaintext\">-3</div></td></tr><tr><td>19</td><td><div class=\"dni-plaintext\">-2</div></td></tr><tr><td colspan=\"2\"><i>(2 more)</i></td></tr></tbody></table>"
      ]
     },
     "metadata": {},
     "output_type": "display_data"
    }
   ],
   "source": [
    "Array.append [|10..-1..0|] [|-10..0|]"
   ]
  }
 ],
 "metadata": {
  "kernelspec": {
   "display_name": ".NET (C#)",
   "language": "C#",
   "name": ".net-csharp"
  },
  "language_info": {
   "file_extension": ".cs",
   "mimetype": "text/x-csharp",
   "name": "C#",
   "pygments_lexer": "csharp",
   "version": "9.0"
  },
  "orig_nbformat": 4
 },
 "nbformat": 4,
 "nbformat_minor": 2
}
