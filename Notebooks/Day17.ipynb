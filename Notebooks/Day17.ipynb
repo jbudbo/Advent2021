{
 "cells": [
  {
   "cell_type": "markdown",
   "metadata": {
    "dotnet_interactive": {
     "language": "csharp"
    }
   },
   "source": [
    "# Day 17: Trick Shot"
   ]
  },
  {
   "cell_type": "code",
   "execution_count": null,
   "metadata": {
    "dotnet_interactive": {
     "language": "fsharp"
    }
   },
   "outputs": [
    {
     "data": {
      "text/html": [
       "<table><thead><tr><th>Item1</th><th>Item2</th></tr></thead><tbody><tr><td><div class=\"dni-plaintext\">6</div></td><td><div class=\"dni-plaintext\">( 27, -3 )</div></td></tr></tbody></table>"
      ]
     },
     "metadata": {},
     "output_type": "display_data"
    }
   ],
   "source": [
    "open System.Text.RegularExpressions\n",
    "\n",
    "type Bounds (coords:List<int>) =\n",
    "    let [x1;x2;y1;y2] = coords\n",
    "    member this.UL = (x1,y2)\n",
    "    member this.UR = (x2,y2)\n",
    "    member this.LL = (x1,y1)\n",
    "    member this.LR = (x2,y2)\n",
    "    member this.HitTest (x:int,y:int) :bool = x >= x1 && x <= x2 && y >= y1 && y <= y2\n",
    "    member this.IsBeyond (x:int,y:int) :bool = x > x2 || y < y1\n",
    "\n",
    "let (|Reg|_|) pattern input =\n",
    "   let m = Regex.Match(input,pattern)\n",
    "   if (m.Success) then Some(List.tail [ for g in m.Groups -> g.Value] |> List.map int) else None\n",
    "\n",
    "let parse str =\n",
    "    match str with\n",
    "    | Reg @\"target area: x=(\\d+)\\.\\.(\\d+), y=(-\\d+)..(-\\d+)\" a -> a\n",
    "    | _ -> failwith \"Bad input\"\n",
    "\n",
    "let inline step (px,py) (vx,vy) = (px+vx, py+vy)\n",
    "let inline adjustVel (vx,vy) = ((if vx > 0 then vx - 1 elif vx < 0 then vx + 1 else 0), vy - 1)\n",
    "\n",
    "let sampleTargetArea = \"target area: x=20..30, y=-10..-5\"\n",
    "\n",
    "let target = parse sampleTargetArea |> Bounds\n",
    "\n",
    "let rec go point vel s peak =\n",
    "    if s > 100 then None\n",
    "    let newPoint = step point vel\n",
    "    match target.IsBeyond newPoint with\n",
    "    | true -> None\n",
    "    | false ->\n",
    "        match target.HitTest newPoint with\n",
    "        | true -> Some (s, peak)\n",
    "        | false ->\n",
    "            let newVel = adjustVel vel\n",
    "            go newPoint newVel (s + 1) (if )\n",
    "\n",
    "go (0,0) (7,2) 0 0"
   ]
  }
 ],
 "metadata": {
  "kernelspec": {
   "display_name": ".NET (C#)",
   "language": "C#",
   "name": ".net-csharp"
  },
  "language_info": {
   "file_extension": ".cs",
   "mimetype": "text/x-csharp",
   "name": "C#",
   "pygments_lexer": "csharp",
   "version": "9.0"
  },
  "orig_nbformat": 4
 },
 "nbformat": 4,
 "nbformat_minor": 2
}
