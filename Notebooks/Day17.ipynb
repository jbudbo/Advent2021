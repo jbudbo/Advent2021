{
 "cells": [
  {
   "cell_type": "markdown",
   "metadata": {
    "dotnet_interactive": {
     "language": "csharp"
    }
   },
   "source": [
    "# Day 17: Trick Shot\n",
    "* Peak height seems like an easy calculation as the upward velocity just drops by 1 each step and once we hit zero it wont go higher.\n",
    "* Part 1 only cares about Peak Y that'll still hit so I really don't even need to care about X at this time.\n",
    "* The hit tests is a little more involved but seems also pretty straight forward\n",
    "    * Basically we know that X will trend toward 0 and then settle there from either direction, so we can easily calculate if X will ever make it to our target and if it does, how many steps it'll take. For now we'll assume our X velocity will always be positive.\n",
    "    * For Y, our gravity constant is 1 which makes this easier. In other words we don't even need to check steps per say as Y will always hit 0 again before going negative. I.E, if our initial velocity is 2, our velocity over time will be 2 -> 1 -> 0 -> -1 -> -2 -> -3 -> -4 etc. This means our points after origin will be 2 -> 3 -> 3 -> 2 -> 0 -> -3 -> -7 etc. In this case it'd take 5 steps to be back to y=0 and then start dropping.\n",
    "        * If initial velocity is 3 then we get 3 -> 2 -> 1 -> 0 -> -1 -> -2 -> -3 -> -4, and 3 -> 5 -> 6 -> 6 -> 5 -> 3 -> 0 -> -4. That's 7 steps til touching origin again and our velocity from there is essentially -(1+v). \n",
    "        * Thought it may not matter, we can calculate the steps lost in upward velocity before we hit origin again by doing 2v+1\n",
    "        * So this is an easier calculation as we know our upward cancels in proportion to our start and from then provides us with an initial downward velocity to begin calculating for target breach. Which then simply becomes the same exercise as what we do for X"
   ]
  },
  {
   "cell_type": "code",
   "execution_count": null,
   "metadata": {
    "dotnet_interactive": {
     "language": "fsharp"
    }
   },
   "outputs": [
    {
     "data": {
      "text/html": [
       "<div class=\"dni-plaintext\">6786</div>"
      ]
     },
     "metadata": {},
     "output_type": "display_data"
    }
   ],
   "source": [
    "let inline stepsAboveOrigin iVel = (2*iVel)+1\n",
    "let inline getUpwardYSteps initialV = Array.unfold (fun (y,v) -> if v = 0 then None else Some (y + v, (y + v, v - 1))) (0, -initialV - 1)\n",
    "let inline getLowerYSteps initialV targetY = Array.unfold (fun (y,v) -> match y + v with i when i < targetY -> None | i -> Some (i, (i, v - 1))) (0, -initialV - 1)\n",
    "let inline getXSteps targetX = Array.unfold (fun (x,v) -> match x - v with i when i <= 0 -> None | i -> Some (i, (i, v + 1))) (targetX, 0)\n",
    "let inline getLeastX targetX = getXSteps targetX |> Array.length\n",
    "let inline countYSteps initialV lowerY = (stepsAboveOrigin initialV) + (getLowerYSteps initialV lowerY |> Array.length)\n",
    "\n",
    "let inline calculatePeakY targetLowerBound = getUpwardYSteps targetLowerBound |> Array.last\n",
    "\n",
    "//  Sample\n",
    "calculatePeakY -10 \n",
    "//  Input\n",
    "calculatePeakY -117\n"
   ]
  },
  {
   "cell_type": "code",
   "execution_count": null,
   "metadata": {
    "dotnet_interactive": {
     "language": "fsharp"
    }
   },
   "outputs": [],
   "source": [
    "// We already know our initial Y can't go mor than -TargetLowerBound - 1 otherwise it'll miss entirely\n",
    "let (sampleYL, sampleYU) = -10,-5\n",
    "// For our sample we know that this means that the highest initial Y we can support is -(-10) - 1 or 9\n",
    "// Our lowest Y san be assumed to be a single step or in other words our lowest Y Bound\n",
    "\n",
    "// We can further elaborate for later by aligning these with the number of steps it takes to reach each\n",
    "// (Steps, Initial Velocity, Target Y)\n",
    "//[|-sampleYL - 1 .. -1 .. sampleYL|] |> Array.map (fun y -> (countYSteps y sampleYL, y, getLowerYSteps y -10 |> Array.last)) |> display |> ignore\n",
    "\n",
    "let (sampleXL, sampleXR) = 20,30\n",
    "// Our x velocity changes by 1 with every step trending toward 0 where it'll rest. Therefore, we can calulate the slowest possible X to get us to target\n",
    "//  working backwards from our leftmost X. In our Sample that's 20 and we'll increase our vel by 1 till we hit 0.\n",
    "//      Vel 0 -> 1 -> 2 -> 3 -> 4; 20 -> 19 -> 17 -> 14 -> 10 -> 5 -> -1. Adding up the steps, 6 is the least we can go before we have not enough energy \n",
    "//      to ever get there.\n",
    "//      0+5=5;5+4=9;9+3=12;12+2=14;14+1=15;15+0=stuck\n",
    "//      0+6=6;6+5=11;11+4=15;15+3=18;18+2=20 hit\n",
    "// Similarly we can assume that our X can be bounded by one step, otherwise or rightmost X value\n",
    "[|20..30|] |> Array.map (fun i -> \n",
    "    let stepBack = getXSteps i\n",
    "    stepBack |> display |> ignore\n",
    "    let initialVelocity = Array.length stepBack\n",
    "    let steps = Array.unfold (fun (x,v) -> if v = 0 then None else match x + v with i when i <= 30 -> Some (i, (i, v - 1)) | _ -> None) (0, initialVelocity)\n",
    "    (Array.length steps, initialVelocity, Array.last steps)\n",
    ")//|> (fun a -> (Array.length a, Array.filter (fun f -> f >= 20 && f <= 30) a), (Array.last a) + 1)) \n",
    "|> display |> ignore \n",
    "// [| getLeastX sampleXL..sampleXR |] //|> Array.map (fun x -> (getLowerYSteps))\n",
    "\n",
    "// [|for x in xCandidates do for y in yCandidates do (x,y)|]"
   ]
  },
  {
   "cell_type": "code",
   "execution_count": null,
   "metadata": {
    "dotnet_interactive": {
     "language": "fsharp"
    }
   },
   "outputs": [
    {
     "data": {
      "text/html": [
       "<table><thead><tr><th><i>index</i></th><th>value</th></tr></thead><tbody><tr><td>0</td><td><div class=\"dni-plaintext\">6</div></td></tr><tr><td>1</td><td><div class=\"dni-plaintext\">11</div></td></tr><tr><td>2</td><td><div class=\"dni-plaintext\">15</div></td></tr><tr><td>3</td><td><div class=\"dni-plaintext\">18</div></td></tr><tr><td>4</td><td><div class=\"dni-plaintext\">20</div></td></tr><tr><td>5</td><td><div class=\"dni-plaintext\">21</div></td></tr></tbody></table>"
      ]
     },
     "metadata": {},
     "output_type": "display_data"
    }
   ],
   "source": [
    "Array.unfold (fun (x,v) -> if v = 0 then None else match x + v with i when i <= 30 -> Some (i, (i, v - 1)) | _ -> None) (0, 6)"
   ]
  },
  {
   "cell_type": "code",
   "execution_count": null,
   "metadata": {
    "dotnet_interactive": {
     "language": "fsharp"
    }
   },
   "outputs": [
    {
     "ename": "Error",
     "evalue": "System.OperationCanceledException: Command :SubmitCode: let getPeak ((x1:int,x2:int),(y1,y2)) (vx:int, vy: ... cancelled.",
     "output_type": "error",
     "traceback": [
      "System.OperationCanceledException: Command :SubmitCode: let getPeak ((x1:int,x2:int),(y1,y2)) (vx:int, vy: ... cancelled."
     ]
    }
   ],
   "source": [
    "let inline getLowerYSteps initialV targetY = Array.unfold (fun (x,v))\n",
    "\n",
    "let getPeak ((x1:int,x2:int),(y1,y2)) (vx:int, vy:int) =\n",
    "    //  Check if our X velocity will ever be enough to get us to target\n",
    "    let xSteps = Seq.unfold (fun (x,v) -> if v = 0 then None else match x + v with i when i > x2 -> None | i -> Some (i, (i, v - 1))) (0,vx)\n",
    "    if Seq.isEmpty xSteps then None\n",
    "    elif (Seq.last xSteps) < x1 then None\n",
    "    //  X trends toward 0 and stops so if we don't fall short we'll likely hit it\n",
    "    //  There is the posibility that our initial X velocity will overshoot the target on step 1, but we'll avoid that by not checking velocities\n",
    "    //      that could put us in that situation and thus simplifying our calculation\n",
    "    else\n",
    "        // On to calculating Y now\n",
    "        let startingDownwardVelocity = -(1+vy)\n",
    "        // So let's calculate all the points between our downward vel and our target to see if we get there\n",
    "        let ySteps = Seq.unfold (fun (y,v) -> match y + v with i when i < y1 -> None | i -> Some (i, (i, v - 1))) (0, startingDownwardVelocity)\n",
    "        if Seq.isEmpty ySteps then None\n",
    "        elif (Seq.last ySteps) > y2 then None\n",
    "        // If we got this far, then we'll land within our target so let's calculate our peak\n",
    "        else \n",
    "            let peaks = Seq.unfold (fun (y,v) -> if v = 0 then None else Some (y + v, (y + v,v - 1))) (0, vy)\n",
    "            if Seq.isEmpty peaks then None else Seq.last peaks |> Some\n",
    "        \n",
    "let findCandidates (x1:int,x2:int) (y1:int,y2:int) =\n",
    "    //  We know that any X velocity beyond our furthest target wont do any good so skip that\n",
    "    //  Same goes for our Y velocity but that is translated so we'll skip any -(v+1) velocities beyond our lowest point\n",
    "\n",
    "    [|\n",
    "        for x = 0 to x2 do\n",
    "            for y = 0 downto y1 + 1 do\n",
    "                getPeak ((x1,x2),(y1,y1)) (x,y)\n",
    "    |]\n",
    "\n",
    "findCandidates (20,30) (-10,-5)"
   ]
  }
 ],
 "metadata": {
  "kernelspec": {
   "display_name": ".NET (C#)",
   "language": "C#",
   "name": ".net-csharp"
  },
  "language_info": {
   "file_extension": ".cs",
   "mimetype": "text/x-csharp",
   "name": "C#",
   "pygments_lexer": "csharp",
   "version": "9.0"
  },
  "orig_nbformat": 4
 },
 "nbformat": 4,
 "nbformat_minor": 2
}
