{
 "cells": [
  {
   "cell_type": "markdown",
   "metadata": {},
   "source": [
    "# Day 6, Lanternfish \n",
    "Find a way to simulate lanternfish. How many lanternfish would there be after 80 days?\n",
    ">In this example, after 18 days, there are a total of 26 fish. After 80 days, there would be a total of 5934.\n",
    "Although you know nothing about this specific species of lanternfish, you make some guesses about their attributes. Surely, each lanternfish creates a new lanternfish once every 7 days.\n",
    "\n",
    "However, this process isn't necessarily synchronized between every lanternfish - one lanternfish might have 2 days left until it creates another lanternfish, while another might have 4. So, you can model each fish as a single number that represents the number of days until it creates a new lanternfish.\n",
    "\n",
    "Furthermore, you reason, a new lanternfish would surely need slightly longer before it's capable of producing more lanternfish: two more days for its first cycle."
   ]
  },
  {
   "cell_type": "code",
   "execution_count": null,
   "metadata": {
    "dotnet_interactive": {
     "language": "fsharp"
    }
   },
   "outputs": [],
   "source": [
    "/// Parses a given comma delimited string into an in array\n",
    "let inline parse (str:string) :int array = str.Split(',') |> Array.map int\n",
    "let sample = \"3,4,3,1,2\" |> parse\n",
    "\n",
    "let inline agePopulation (population:seq<int>) = seq { for p in population do match p - 1 with -1 -> yield! [|6;8;|] | a -> yield a }\n",
    "let rec runGen max gen (population:seq<int>) = seq { if gen = max then yield population else yield! population |> agePopulation |> runGen max (gen + 1) }\n",
    "let inline runSimulationForDays days (population:seq<int>)= population |> runGen days 0 |> Seq.head |> Seq.length"
   ]
  },
  {
   "cell_type": "markdown",
   "metadata": {},
   "source": [
    "## Alg: Thoughts\n",
    "Perhaps if rather than counting down we count up and each fish just ages accordingly. This way each fish's spawn becomes a factor of the number of days we want.\n",
    "After we adjust the first population set we get, we can determine how many generations they would have created in a given time by dividing by the spawn rate (6).\n",
    "After we've determined how many new fish each started would create in a given time frame, we need to create a new population with this number and re-run our algorithm with them, however these fish would start at -2 considering they take 2 days to \"mature\" before their spawning countdown can begin. The problem is that I can't just start them all at -2 and go, each fish will spawn at a different starting point so I actually need to generate a list of fish and their beginning age for the next iteration."
   ]
  },
  {
   "cell_type": "code",
   "execution_count": null,
   "metadata": {
    "dotnet_interactive": {
     "language": "fsharp"
    }
   },
   "outputs": [
    {
     "data": {
      "text/html": [
       "<table><thead><tr><th><i>index</i></th><th>value</th></tr></thead><tbody><tr><td>0</td><td><div class=\"dni-plaintext\">6</div></td></tr><tr><td>1</td><td><div class=\"dni-plaintext\">13</div></td></tr><tr><td>2</td><td><div class=\"dni-plaintext\">7</div></td></tr><tr><td>3</td><td><div class=\"dni-plaintext\">14</div></td></tr><tr><td>4</td><td><div class=\"dni-plaintext\">6</div></td></tr><tr><td>5</td><td><div class=\"dni-plaintext\">13</div></td></tr><tr><td>6</td><td><div class=\"dni-plaintext\">4</div></td></tr><tr><td>7</td><td><div class=\"dni-plaintext\">11</div></td></tr><tr><td>8</td><td><div class=\"dni-plaintext\">18</div></td></tr><tr><td>9</td><td><div class=\"dni-plaintext\">5</div></td></tr><tr><td>10</td><td><div class=\"dni-plaintext\">12</div></td></tr></tbody></table>"
      ]
     },
     "metadata": {},
     "output_type": "display_data"
    }
   ],
   "source": [
    "// sample |> runSimulationForDays 80\n",
    "let gens = 18\n",
    "let inline runGen s =\n",
    "    seq {\n",
    "        if s+3 <= gens then yield s + 3\n",
    "        yield! [|for i in 1..((gens - s - 3) / 7) -> i * 7 + s + 3|] |> Array.where (fun x -> x <= gens)\n",
    "    }\n",
    "\n",
    "sample\n",
    "|> Seq.map runGen |> Seq.collect id\n",
    "// |> Seq.map runGen |> Seq.collect id\n",
    "// |> Seq.map runGen |> Seq.collect id\n",
    "// |> Seq.map runGen |> Seq.collect id"
   ]
  },
  {
   "cell_type": "code",
   "execution_count": null,
   "metadata": {
    "dotnet_interactive": {
     "language": "fsharp"
    }
   },
   "outputs": [
    {
     "data": {
      "text/html": [
       "<div class=\"dni-plaintext\">345387</div>"
      ]
     },
     "metadata": {},
     "output_type": "display_data"
    }
   ],
   "source": [
    "System.IO.File.ReadAllText(\"../Data/Day6.txt\").Split(',') |> Seq.map int |> simulate 80 |> Seq.length"
   ]
  },
  {
   "cell_type": "code",
   "execution_count": null,
   "metadata": {
    "dotnet_interactive": {
     "language": "fsharp"
    }
   },
   "outputs": [
    {
     "ename": "Error",
     "evalue": "System.OperationCanceledException: Command :SubmitCode: sample.Split(',') |> Seq.map int |> simulate 0 256 ... cancelled.",
     "output_type": "error",
     "traceback": [
      "System.OperationCanceledException: Command :SubmitCode: sample.Split(',') |> Seq.map int |> simulate 0 256 ... cancelled."
     ]
    }
   ],
   "source": [
    "sample.Split(',') |> Seq.map int |> simulate 0 256 |> Seq.length"
   ]
  },
  {
   "cell_type": "code",
   "execution_count": null,
   "metadata": {
    "dotnet_interactive": {
     "language": "fsharp"
    }
   },
   "outputs": [
    {
     "ename": "Error",
     "evalue": "System.OperationCanceledException: Command :SubmitCode: System.IO.File.ReadAllText(\"../Data/Day6.txt\").Spl ... cancelled.",
     "output_type": "error",
     "traceback": [
      "System.OperationCanceledException: Command :SubmitCode: System.IO.File.ReadAllText(\"../Data/Day6.txt\").Spl ... cancelled."
     ]
    }
   ],
   "source": [
    "System.IO.File.ReadAllText(\"../Data/Day6.txt\").Split(',') |> Seq.map int |> simulate 0 256 |> Seq.length"
   ]
  }
 ],
 "metadata": {
  "kernelspec": {
   "display_name": ".NET (C#)",
   "language": "C#",
   "name": ".net-csharp"
  },
  "language_info": {
   "file_extension": ".cs",
   "mimetype": "text/x-csharp",
   "name": "C#",
   "pygments_lexer": "csharp",
   "version": "9.0"
  },
  "orig_nbformat": 4
 },
 "nbformat": 4,
 "nbformat_minor": 2
}
