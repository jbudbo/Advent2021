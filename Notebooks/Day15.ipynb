{
 "cells": [
  {
   "cell_type": "markdown",
   "metadata": {
    "dotnet_interactive": {
     "language": "csharp"
    }
   },
   "source": [
    "# Day 15: Chiton\n",
    "This has to be a problem for \n",
    "[Dijkstra's Algorithm](https://en.wikipedia.org/wiki/Dijkstra%27s_algorithm)\n",
    "([Computerphile's breakdown](https://www.youtube.com/watch?v=GazC3A4OQTE))\n",
    "but Dijkstra doesn't account for weights per point it just does shortes path.\n",
    "\n",
    "A* does account for weights\n",
    "([Computerphile's breakdown](https://www.youtube.com/watch?v=ySN5Wnu88nE))"
   ]
  },
  {
   "cell_type": "code",
   "execution_count": null,
   "metadata": {
    "dotnet_interactive": {
     "language": "fsharp"
    }
   },
   "outputs": [],
   "source": [
    "type PathPoint (x:int,y:int,value:int,distance:int) =\n",
    "    static member (-) (p1:PathPoint, p2:PathPoint) =\n",
    "        PathPoint (p1.X - p2.X, p1.Y - p2.Y, p1.Value - p1.Value, p1.Distance - p2.Distance)\n",
    "\n",
    "    static member (+) (p1:PathPoint, p2:PathPoint) =\n",
    "        PathPoint (p1.X + p2.X, p1.Y + p2.Y, p1.Value + p1.Value, p1.Distance + p2.Distance)\n",
    "\n",
    "    member this.X = x\n",
    "    member this.Y = y\n",
    "    member this.Value = value\n",
    "    member this.Distance = distance"
   ]
  },
  {
   "cell_type": "code",
   "execution_count": null,
   "metadata": {
    "dotnet_interactive": {
     "language": "fsharp"
    }
   },
   "outputs": [
    {
     "ename": "Error",
     "evalue": "input.fsx (3,1)-(3,5) typecheck error This value is not a function and cannot be applied.\ninput.fsx (41,9)-(41,21) typecheck warning The result of this expression has type 'DotNet.Interactive.DisplayedValue' and is implicitly ignored. Consider using 'ignore' to discard this value explicitly, e.g. 'expr |> ignore', or 'let' to bind the result to a name, e.g. 'let result = expr'.",
     "output_type": "error",
     "traceback": [
      "input.fsx (3,1)-(3,5) typecheck error This value is not a function and cannot be applied.\n",
      "input.fsx (41,9)-(41,21) typecheck warning The result of this expression has type 'DotNet.Interactive.DisplayedValue' and is implicitly ignored. Consider using 'ignore' to discard this value explicitly, e.g. 'expr |> ignore', or 'let' to bind the result to a name, e.g. 'let result = expr'."
     ]
    }
   ],
   "source": [
    "let int (ch:char) :int = int ch - int '0'\n",
    "let array = Seq.map int\n",
    "let sample = \"1163751742\n",
    "1381373672\n",
    "2136511328\n",
    "3694931569\n",
    "7463417111\n",
    "1319128137\n",
    "1359912421\n",
    "3125421639\n",
    "1293138521\n",
    "2311944581\"\n",
    "let cleanData :int[,] = sample.Split(Environment.NewLine) |> Array.map array |> array2D\n",
    "let finish :int*int = (cleanData.GetUpperBound(0), cleanData.GetUpperBound(1))\n",
    "let fth (_,_,_,t) = t\n",
    "\n",
    "let sub (x1,y1) (x2,y2) = (x1 - x2, y1 - y2)\n",
    "let square (x,y) = (pown x 2, pown y 2)\n",
    "/// A truncated version of pythag as we just want a distance modifier\n",
    "let dist a b = (a,b) ||> sub ||> (+)\n",
    "let getNeighbors x y = \n",
    "    [|\n",
    "        for a = max (x-1) 0 to min (x+1) (fst finish) do\n",
    "            for b = max (y-1) 0 to min (y+1) (snd finish) do\n",
    "                // Exclude ourselves\n",
    "                if (a = x && b <> y) || (a <> x && b = y) then //  Don't consider diagonals for now\n",
    "                // if a <> x || b <> y then // Take all neighbors excluding the given point\n",
    "                    (a,b, cleanData.[a,b], (dist finish (a,b)) + cleanData.[a,b])\n",
    "\n",
    "    |]\n",
    "\n",
    "let astar max =\n",
    "    let mutable kill = 0\n",
    "    let rec f q =\n",
    "        //  Pop off the top of our queue\n",
    "        let h = Array.head q\n",
    "        h |> display\n",
    "        //  Decompose h a little for ease of use\n",
    "        let (x,y,value,_) = h\n",
    "        //  If our top queue item is our finish, we're done\n",
    "        if (x = fst finish && y = snd finish) || kill = max then q\n",
    "        else\n",
    "            //  Our leftovers for later\n",
    "            let t = Array.tail q\n",
    "            kill <- kill + 1\n",
    "            //  Get the neighbors of H\n",
    "            getNeighbors x y \n",
    "            //  Filter out coords that match where we came from\n",
    "            // |> Array.filter ()\n",
    "            //  Boost their values as we progress\n",
    "            |> Array.map (fun (ax,ay,av,ad) -> (ax,ay,av+value,ad+value))\n",
    "            //  Append this list to our queue\n",
    "            |> Array.append t\n",
    "            //  Sort by distance\n",
    "            |> Array.sortBy fth\n",
    "            //  Repeat\n",
    "            |> f\n",
    "\n",
    "    getNeighbors 0 0 |> f \n",
    "\n",
    "// astar 0\n",
    "\n",
    "PathPoint (0,0,cleanData.[0,0],dist finish (0,0))"
   ]
  },
  {
   "cell_type": "code",
   "execution_count": null,
   "metadata": {
    "dotnet_interactive": {
     "language": "fsharp"
    }
   },
   "outputs": [],
   "source": [
    "type Config<'a> = \n",
    "    {\n",
    "        /// <summary>\n",
    "        /// A method that, given a source, will return its neighbours.\n",
    "        /// </summary>\n",
    "        neighbours: 'a -> seq<'a>\n",
    "        /// <summary>\n",
    "        /// Given two nodes that are next to each other, return the g cost between them.\n",
    "        /// The g cost is the cost of moving from one to the other directly.\n",
    "        /// </summary>\n",
    "        gCost: 'a -> 'a -> float\n",
    "        /// <summary>\n",
    "        /// Given two nodes, return the f cost between them. This is a heuristic score used from a given node to the goal.\n",
    "        /// Line-of-sight distance is an example of how this might be defined.\n",
    "        /// </summary>\n",
    "        fCost: 'a -> 'a -> float\n",
    "        /// <summary>\n",
    "        /// The maximum number of tiles to check - used to limit overly long searches when accuracy is not paramount\n",
    "        /// </summary>\n",
    "        maxIterations: int option\n",
    "    }\n",
    "\n",
    "let search<'a when 'a : comparison> start goal config : seq<'a> option =\n",
    "\n",
    "    let rec reconstructPath cameFrom current =\n",
    "        seq {\n",
    "            yield current\n",
    "            match Map.tryFind current cameFrom with\n",
    "            | None -> ()\n",
    "            | Some next -> yield! reconstructPath cameFrom next\n",
    "        }\n",
    "\n",
    "    let rec crawler closedSet (openSet, gScores, fScores, cameFrom) =\n",
    "        match config.maxIterations with \n",
    "        | Some n when n = Set.count closedSet -> None\n",
    "        | _ ->\n",
    "            match List.sortBy (fun n -> Map.find n fScores) openSet with\n",
    "            | current::_ when current = goal -> Some <| reconstructPath cameFrom current \n",
    "            | current::rest ->\n",
    "                let gScore = Map.find current gScores\n",
    "                let next =\n",
    "                    config.neighbours current \n",
    "                    |> Seq.filter (fun n -> closedSet |> Set.contains n |> not)\n",
    "                    |> Seq.fold (fun (openSet, gScores, fScores, cameFrom) neighbour ->\n",
    "                        let tentativeGScore = gScore + config.gCost current neighbour\n",
    "                        if List.contains neighbour openSet && tentativeGScore >= Map.find neighbour gScores \n",
    "                        then (openSet, gScores, fScores, cameFrom)\n",
    "                        else\n",
    "                            let newOpenSet = if List.contains neighbour openSet then openSet else neighbour::openSet\n",
    "                            let newGScores = Map.add neighbour tentativeGScore gScores\n",
    "                            let newFScores = Map.add neighbour (tentativeGScore + config.fCost neighbour goal) fScores\n",
    "                            let newCameFrom = Map.add neighbour current cameFrom\n",
    "                            newOpenSet, newGScores, newFScores, newCameFrom\n",
    "                        ) (rest, gScores, fScores, cameFrom)\n",
    "                crawler (Set.add current closedSet) next\n",
    "            | _ -> None\n",
    "\n",
    "    let gScores = Map.ofList [start, 0.]\n",
    "    let fScores = Map.ofList [start, config.fCost start goal]\n",
    "    crawler Set.empty ([start], gScores, fScores, Map.empty)"
   ]
  },
  {
   "cell_type": "code",
   "execution_count": null,
   "metadata": {
    "dotnet_interactive": {
     "language": "fsharp"
    }
   },
   "outputs": [
    {
     "ename": "Error",
     "evalue": "input.fsx (27,60)-(27,61) typecheck error The type 'int * int' does not match the type 'int'",
     "output_type": "error",
     "traceback": [
      "input.fsx (27,60)-(27,61) typecheck error The type 'int * int' does not match the type 'int'"
     ]
    }
   ],
   "source": [
    "let int (ch:char) :int = int ch - int '0'\n",
    "let sample = \"1163751742\n",
    "1381373672\n",
    "2136511328\n",
    "3694931569\n",
    "7463417111\n",
    "1319128137\n",
    "1359912421\n",
    "3125421639\n",
    "1293138521\n",
    "2311944581\"\n",
    "\n",
    "let grid = sample.Split(Environment.NewLine) |> Array.map (fun s -> Seq.map float s ) //|> array2D\n",
    "let width,height = Seq.length (Array.head grid), Array.length grid// grid.GetUpperBound(0), grid.GetUpperBound(1)\n",
    "let start = 0,0\n",
    "let goal = width - 1, height - 1\n",
    "let neighbours (x, y) =\n",
    "        let found = \n",
    "            [-1..1] |> List.collect (fun nx ->\n",
    "            [-1..1] |> List.filter (fun ny -> ny <> nx || ny <> 0) |> List.map (fun ny -> x + nx, y + ny))\n",
    "        found |> Seq.filter (fun (nx, ny) -> \n",
    "            nx > 0 && ny > 0 &&\n",
    "            nx < width && ny < height)\n",
    "let g x y = Seq.item x (Array.item y grid)\n",
    "let fScore (x, y) (gx, gy) = sqrt ((float gx - float x)**2. + (float gy - float y)**2.)\n",
    "\n",
    "match search start goal { neighbours = neighbours; gCost = g; fCost = fScore; maxIterations = Some(20) } with\n",
    "| Some path -> display path |> ignore\n",
    "| None -> printf \"No path\""
   ]
  }
 ],
 "metadata": {
  "kernelspec": {
   "display_name": ".NET (C#)",
   "language": "C#",
   "name": ".net-csharp"
  },
  "language_info": {
   "file_extension": ".cs",
   "mimetype": "text/x-csharp",
   "name": "C#",
   "pygments_lexer": "csharp",
   "version": "9.0"
  },
  "orig_nbformat": 4
 },
 "nbformat": 4,
 "nbformat_minor": 2
}
