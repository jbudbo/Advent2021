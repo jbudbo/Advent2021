{
 "cells": [
  {
   "cell_type": "markdown",
   "metadata": {
    "dotnet_interactive": {
     "language": "csharp"
    }
   },
   "source": [
    "# Day 15: Chiton\n",
    "This has to be a problem for \n",
    "[Dijkstra's Algorithm](https://en.wikipedia.org/wiki/Dijkstra%27s_algorithm)\n",
    "([Computerphile's breakdown](https://www.youtube.com/watch?v=GazC3A4OQTE))\n",
    "but Dijkstra doesn't account for weights per point it just does shortes path.\n",
    "\n",
    "A* does account for weights\n",
    "([Computerphile's breakdown](https://www.youtube.com/watch?v=ySN5Wnu88nE))"
   ]
  },
  {
   "cell_type": "code",
   "execution_count": null,
   "metadata": {
    "dotnet_interactive": {
     "language": "fsharp"
    }
   },
   "outputs": [
    {
     "data": {
      "text/html": [
       "<table><thead><tr><th><i>index</i></th><th>Item1</th><th>Item2</th><th>Item3</th><th>Item4</th></tr></thead><tbody><tr><td>0</td><td><div class=\"dni-plaintext\">0</div></td><td><div class=\"dni-plaintext\">0</div></td><td><div class=\"dni-plaintext\">1</div></td><td><div class=\"dni-plaintext\">19</div></td></tr><tr><td>1</td><td><div class=\"dni-plaintext\">0</div></td><td><div class=\"dni-plaintext\">1</div></td><td><div class=\"dni-plaintext\">1</div></td><td><div class=\"dni-plaintext\">18</div></td></tr><tr><td>2</td><td><div class=\"dni-plaintext\">1</div></td><td><div class=\"dni-plaintext\">0</div></td><td><div class=\"dni-plaintext\">1</div></td><td><div class=\"dni-plaintext\">18</div></td></tr><tr><td>3</td><td><div class=\"dni-plaintext\">2</div></td><td><div class=\"dni-plaintext\">0</div></td><td><div class=\"dni-plaintext\">2</div></td><td><div class=\"dni-plaintext\">18</div></td></tr><tr><td>4</td><td><div class=\"dni-plaintext\">2</div></td><td><div class=\"dni-plaintext\">1</div></td><td><div class=\"dni-plaintext\">1</div></td><td><div class=\"dni-plaintext\">16</div></td></tr><tr><td>5</td><td><div class=\"dni-plaintext\">2</div></td><td><div class=\"dni-plaintext\">2</div></td><td><div class=\"dni-plaintext\">3</div></td><td><div class=\"dni-plaintext\">17</div></td></tr><tr><td>6</td><td><div class=\"dni-plaintext\">3</div></td><td><div class=\"dni-plaintext\">0</div></td><td><div class=\"dni-plaintext\">3</div></td><td><div class=\"dni-plaintext\">18</div></td></tr><tr><td>7</td><td><div class=\"dni-plaintext\">1</div></td><td><div class=\"dni-plaintext\">1</div></td><td><div class=\"dni-plaintext\">3</div></td><td><div class=\"dni-plaintext\">19</div></td></tr><tr><td>8</td><td><div class=\"dni-plaintext\">2</div></td><td><div class=\"dni-plaintext\">3</div></td><td><div class=\"dni-plaintext\">6</div></td><td><div class=\"dni-plaintext\">19</div></td></tr><tr><td>9</td><td><div class=\"dni-plaintext\">1</div></td><td><div class=\"dni-plaintext\">3</div></td><td><div class=\"dni-plaintext\">1</div></td><td><div class=\"dni-plaintext\">15</div></td></tr><tr><td>10</td><td><div class=\"dni-plaintext\">3</div></td><td><div class=\"dni-plaintext\">3</div></td><td><div class=\"dni-plaintext\">4</div></td><td><div class=\"dni-plaintext\">16</div></td></tr><tr><td>11</td><td><div class=\"dni-plaintext\">4</div></td><td><div class=\"dni-plaintext\">3</div></td><td><div class=\"dni-plaintext\">3</div></td><td><div class=\"dni-plaintext\">14</div></td></tr><tr><td>12</td><td><div class=\"dni-plaintext\">4</div></td><td><div class=\"dni-plaintext\">4</div></td><td><div class=\"dni-plaintext\">4</div></td><td><div class=\"dni-plaintext\">14</div></td></tr><tr><td>13</td><td><div class=\"dni-plaintext\">5</div></td><td><div class=\"dni-plaintext\">4</div></td><td><div class=\"dni-plaintext\">1</div></td><td><div class=\"dni-plaintext\">10</div></td></tr><tr><td>14</td><td><div class=\"dni-plaintext\">4</div></td><td><div class=\"dni-plaintext\">5</div></td><td><div class=\"dni-plaintext\">1</div></td><td><div class=\"dni-plaintext\">10</div></td></tr><tr><td>15</td><td><div class=\"dni-plaintext\">5</div></td><td><div class=\"dni-plaintext\">5</div></td><td><div class=\"dni-plaintext\">2</div></td><td><div class=\"dni-plaintext\">10</div></td></tr><tr><td>16</td><td><div class=\"dni-plaintext\">6</div></td><td><div class=\"dni-plaintext\">5</div></td><td><div class=\"dni-plaintext\">1</div></td><td><div class=\"dni-plaintext\">8</div></td></tr><tr><td>17</td><td><div class=\"dni-plaintext\">7</div></td><td><div class=\"dni-plaintext\">5</div></td><td><div class=\"dni-plaintext\">2</div></td><td><div class=\"dni-plaintext\">8</div></td></tr><tr><td>18</td><td><div class=\"dni-plaintext\">7</div></td><td><div class=\"dni-plaintext\">6</div></td><td><div class=\"dni-plaintext\">1</div></td><td><div class=\"dni-plaintext\">6</div></td></tr><tr><td>19</td><td><div class=\"dni-plaintext\">6</div></td><td><div class=\"dni-plaintext\">6</div></td><td><div class=\"dni-plaintext\">2</div></td><td><div class=\"dni-plaintext\">8</div></td></tr><tr><td colspan=\"5\"><i>(8 more)</i></td></tr></tbody></table>"
      ]
     },
     "metadata": {},
     "output_type": "display_data"
    }
   ],
   "source": [
    "let int (ch:char) :int = int ch - int '0'\n",
    "let array = Seq.map int\n",
    "let sample = \"1163751742\n",
    "1381373672\n",
    "2136511328\n",
    "3694931569\n",
    "7463417111\n",
    "1319128137\n",
    "1359912421\n",
    "3125421639\n",
    "1293138521\n",
    "2311944581\"\n",
    "let cleanData :int[,] = sample.Split(Environment.NewLine) |> Array.map array |> array2D\n",
    "let finish :int*int = (cleanData.GetUpperBound(0), cleanData.GetUpperBound(1))\n",
    "let thrd (_,_,t,_) = t\n",
    "let fth (_,_,_,t) = t\n",
    "\n",
    "let sub (x1,y1) (x2,y2) = (x1 - x2, y1 - y2)\n",
    "let square (x,y) = (pown x 2, pown y 2)\n",
    "/// A truncated version of pythag as we just want a distance modifier\n",
    "let dist a b = (a,b) ||> sub ||> (+)\n",
    "let getNeighbors x y = \n",
    "    [|\n",
    "        for a = max (x-1) 0 to min (x+1) (fst finish) do\n",
    "            for b = max (y-1) 0 to min (y+1) (snd finish) do\n",
    "                if (a = x && b <> y) || (a <> x && b = y) then //  Don't consider diagonals for now\n",
    "                // if a <> x || b <> y then // Take all neighbors excluding the given point\n",
    "                    (a,b, cleanData.[a,b], (dist finish (a,b)) + cleanData.[a,b])\n",
    "\n",
    "    |]\n",
    "\n",
    "\n",
    "let astar =\n",
    "    let mutable depth = 0\n",
    "    let rec f path arr =\n",
    "        if depth < 100 then\n",
    "            let h = Array.find (fun a -> Array.contains a path |> not) arr\n",
    "            // path |> Array.sortBy fth |> display |> ignore\n",
    "            // h |> display |> ignore\n",
    "            let t = Array.tail arr\n",
    "            let (x,y,_,_) = h\n",
    "            if x = fst finish && y = snd finish then path\n",
    "            else\n",
    "                depth <- depth + 1\n",
    "                getNeighbors x y |> Array.append t |> Array.sortBy fth\n",
    "                |> f [|yield! path; yield h|]\n",
    "        else path\n",
    "\n",
    "    getNeighbors 0 0 |> f [|(0,0,cleanData.[0,0],(fst finish + snd finish) + cleanData.[0,0])|]\n",
    "\n",
    "astar"
   ]
  }
 ],
 "metadata": {
  "kernelspec": {
   "display_name": ".NET (C#)",
   "language": "C#",
   "name": ".net-csharp"
  },
  "language_info": {
   "file_extension": ".cs",
   "mimetype": "text/x-csharp",
   "name": "C#",
   "pygments_lexer": "csharp",
   "version": "9.0"
  },
  "orig_nbformat": 4
 },
 "nbformat": 4,
 "nbformat_minor": 2
}
