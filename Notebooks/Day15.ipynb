{
 "cells": [
  {
   "cell_type": "markdown",
   "metadata": {
    "dotnet_interactive": {
     "language": "csharp"
    }
   },
   "source": [
    "# Day 15: Chiton\n",
    "This has to be a problem for \n",
    "[Dijkstra's Algorithm](https://en.wikipedia.org/wiki/Dijkstra%27s_algorithm)\n",
    "([Computerphile's breakdown](https://www.youtube.com/watch?v=GazC3A4OQTE))\n",
    "but Dijkstra doesn't account for weights per point it just does shortes path.\n",
    "\n",
    "A* does account for weights\n",
    "([Computerphile's breakdown](https://www.youtube.com/watch?v=ySN5Wnu88nE))"
   ]
  },
  {
   "cell_type": "code",
   "execution_count": null,
   "metadata": {
    "dotnet_interactive": {
     "language": "fsharp"
    }
   },
   "outputs": [
    {
     "data": {
      "text/html": [
       "<div><div></div><div></div><div><strong>Installed Packages</strong><ul><li><span>astar-search, 1.0.2</span></li></ul></div></div>"
      ]
     },
     "metadata": {},
     "output_type": "display_data"
    },
    {
     "name": "stdout",
     "output_type": "stream",
     "text": [
      "No path"
     ]
    }
   ],
   "source": [
    "#r \"nuget: astar-search\"\n",
    "open AStar\n",
    "\n",
    "let int (ch:char) :int = int ch - int '0'\n",
    "let sample = \"1163751742\n",
    "1381373672\n",
    "2136511328\n",
    "3694931569\n",
    "7463417111\n",
    "1319128137\n",
    "1359912421\n",
    "3125421639\n",
    "1293138521\n",
    "2311944581\"\n",
    "\n",
    "let grid = sample.Split(Environment.NewLine) |> Array.map (fun s -> Seq.map float s |> Seq.toArray)\n",
    "let width,height = Array.length (Array.head grid), Array.length grid\n",
    "let start = 0,0\n",
    "let goal = width - 1, height - 1\n",
    "let neighbours (x, y) =\n",
    "    let found = \n",
    "        [-1..1] |> List.collect (fun nx ->\n",
    "            [-1..1] |> List.filter (fun ny -> \n",
    "                // ny <> nx || ny <> 0\n",
    "                (nx = x && ny <> y) || (nx <> x && ny = y)\n",
    "            ) \n",
    "            |> List.map (fun ny -> \n",
    "                x + nx, y + ny\n",
    "            )\n",
    "        )\n",
    "    found |> Seq.filter (fun (nx, ny) -> \n",
    "        nx >= 0 && ny >= 0 &&\n",
    "        nx < width && ny < height)\n",
    "let gScore _ (x,y) =\n",
    "    grid |> Array.item y |> Array.item x\n",
    "let fScore (x, y) (gx, gy) = sqrt ((float gx - float x)**2. + (float gy - float y)**2.)\n",
    "\n",
    "match search start goal { neighbours = neighbours; gCost = gScore; fCost = fScore; maxIterations = None } with\n",
    "| Some path ->\n",
    "    path |> Seq.rev |> display |> ignore\n",
    "    // grid |> Array.mapi (fun y row -> \n",
    "    //     row \n",
    "    //     |> Array.mapi (fun x cell -> if Seq.contains (x, y) path then \"#\" else cell.ToString())\n",
    "    //     |> String.concat \"\"\n",
    "    // ) |> Array.iter (printfn \"%s\")\n",
    "| None -> printf \"No path\""
   ]
  }
 ],
 "metadata": {
  "kernelspec": {
   "display_name": ".NET (C#)",
   "language": "C#",
   "name": ".net-csharp"
  },
  "language_info": {
   "file_extension": ".cs",
   "mimetype": "text/x-csharp",
   "name": "C#",
   "pygments_lexer": "csharp",
   "version": "9.0"
  },
  "orig_nbformat": 4
 },
 "nbformat": 4,
 "nbformat_minor": 2
}
